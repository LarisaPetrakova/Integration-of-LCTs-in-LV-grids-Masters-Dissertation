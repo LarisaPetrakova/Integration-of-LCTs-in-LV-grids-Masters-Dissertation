{
 "cells": [
  {
   "cell_type": "code",
   "execution_count": 1,
   "id": "ff27cca6-9e30-4954-a10e-d7058f55d49d",
   "metadata": {},
   "outputs": [],
   "source": [
    "#pip install pvlib"
   ]
  },
  {
   "cell_type": "code",
   "execution_count": 2,
   "id": "87df0353-d77b-4523-a0df-0d069c84ba85",
   "metadata": {},
   "outputs": [],
   "source": [
    "import pandas as pd\n",
    "import pvlib\n",
    "from pvlib.location import Location\n",
    "from datetime import datetime\n",
    "import matplotlib.dates as mdates"
   ]
  },
  {
   "cell_type": "markdown",
   "id": "ece8811e-2e13-4562-bdde-36d8e0c11597",
   "metadata": {},
   "source": [
    "# 11th January 2025 London"
   ]
  },
  {
   "cell_type": "code",
   "execution_count": 16,
   "id": "cba7cbfa-72d4-4b76-8be6-322a42cdd642",
   "metadata": {},
   "outputs": [],
   "source": [
    "# Define location\n",
    "location = Location(latitude=51.30, longitude=0.08, tz='Europe/London', altitude=19, name='London')\n",
    "\n",
    "# Time range\n",
    "# 1-minute intervals for 11th January\n",
    "times = pd.date_range('2025-01-11 00:00', '2025-01-11 23:59', freq='1min', tz='Europe/London')\n",
    "\n",
    "# Get clear-sky data\n",
    "clearsky = location.get_clearsky(times, model='ineichen')\n",
    "\n",
    "# Define PV system\n",
    "pv_system = pvlib.pvsystem.PVSystem(\n",
    "    surface_tilt=35,\n",
    "    surface_azimuth=180,\n",
    "    module_parameters={'pdc0': 5280, 'gamma_pdc': -0.003},\n",
    "    inverter_parameters={'pdc0': 5280},\n",
    "    racking_model='open_rack',     # required for temperature model\n",
    "    module_type='glass_polymer'    # required for temperature model\n",
    ")\n",
    "\n",
    "# Run ModelChain\n",
    "mc = pvlib.modelchain.ModelChain(\n",
    "    pv_system,\n",
    "    location,\n",
    "    aoi_model='no_loss',\n",
    "    spectral_model='no_loss',\n",
    "    temperature_model='sapm'\n",
    ")\n",
    "\n",
    "mc.run_model(clearsky)\n",
    "\n",
    "# Apply inverter efficiency (97%) and convert to kW\n",
    "inverter_efficiency = 0.97  # realistic residential string inverter\n",
    "df = pd.DataFrame({\n",
    "    'timestamp': mc.results.ac.index,\n",
    "    'pv_output_kW': mc.results.ac.fillna(0) / 1000 * inverter_efficiency  # W → kW with losses\n",
    "})\n",
    "\n"
   ]
  },
  {
   "cell_type": "code",
   "execution_count": 17,
   "id": "52ee8d92-2993-4818-bef2-41c412332ffe",
   "metadata": {},
   "outputs": [
    {
     "data": {
      "text/html": [
       "<div>\n",
       "<style scoped>\n",
       "    .dataframe tbody tr th:only-of-type {\n",
       "        vertical-align: middle;\n",
       "    }\n",
       "\n",
       "    .dataframe tbody tr th {\n",
       "        vertical-align: top;\n",
       "    }\n",
       "\n",
       "    .dataframe thead th {\n",
       "        text-align: right;\n",
       "    }\n",
       "</style>\n",
       "<table border=\"1\" class=\"dataframe\">\n",
       "  <thead>\n",
       "    <tr style=\"text-align: right;\">\n",
       "      <th></th>\n",
       "      <th>timestamp</th>\n",
       "      <th>pv_output_kW</th>\n",
       "    </tr>\n",
       "  </thead>\n",
       "  <tbody>\n",
       "    <tr>\n",
       "      <th>2025-01-11 00:00:00+00:00</th>\n",
       "      <td>2025-01-11 00:00:00+00:00</td>\n",
       "      <td>0.0</td>\n",
       "    </tr>\n",
       "    <tr>\n",
       "      <th>2025-01-11 00:01:00+00:00</th>\n",
       "      <td>2025-01-11 00:01:00+00:00</td>\n",
       "      <td>0.0</td>\n",
       "    </tr>\n",
       "    <tr>\n",
       "      <th>2025-01-11 00:02:00+00:00</th>\n",
       "      <td>2025-01-11 00:02:00+00:00</td>\n",
       "      <td>0.0</td>\n",
       "    </tr>\n",
       "    <tr>\n",
       "      <th>2025-01-11 00:03:00+00:00</th>\n",
       "      <td>2025-01-11 00:03:00+00:00</td>\n",
       "      <td>0.0</td>\n",
       "    </tr>\n",
       "    <tr>\n",
       "      <th>2025-01-11 00:04:00+00:00</th>\n",
       "      <td>2025-01-11 00:04:00+00:00</td>\n",
       "      <td>0.0</td>\n",
       "    </tr>\n",
       "  </tbody>\n",
       "</table>\n",
       "</div>"
      ],
      "text/plain": [
       "                                          timestamp  pv_output_kW\n",
       "2025-01-11 00:00:00+00:00 2025-01-11 00:00:00+00:00           0.0\n",
       "2025-01-11 00:01:00+00:00 2025-01-11 00:01:00+00:00           0.0\n",
       "2025-01-11 00:02:00+00:00 2025-01-11 00:02:00+00:00           0.0\n",
       "2025-01-11 00:03:00+00:00 2025-01-11 00:03:00+00:00           0.0\n",
       "2025-01-11 00:04:00+00:00 2025-01-11 00:04:00+00:00           0.0"
      ]
     },
     "execution_count": 17,
     "metadata": {},
     "output_type": "execute_result"
    }
   ],
   "source": [
    "df.head()"
   ]
  },
  {
   "cell_type": "code",
   "execution_count": 18,
   "id": "a34d62b4-bfe8-4c8b-a94a-84a8d5548654",
   "metadata": {},
   "outputs": [
    {
     "data": {
      "text/plain": [
       "2.795546768222562"
      ]
     },
     "execution_count": 18,
     "metadata": {},
     "output_type": "execute_result"
    }
   ],
   "source": [
    "df['pv_output_kW'].max()"
   ]
  },
  {
   "cell_type": "code",
   "execution_count": 19,
   "id": "655e6c9a-fdc8-431e-9288-d1bcf8ec69b0",
   "metadata": {},
   "outputs": [],
   "source": [
    "def simulate_battery_1min_kW(df, capacity_kWh=5.0, round_trip_eff=0.9):\n",
    "    soc = 0.0 # start at zero\n",
    "    charge_eff = discharge_eff = round_trip_eff**0.5\n",
    "    dt_hours = 1 / 60  # 1-minute timestep\n",
    "\n",
    "    soc_list = []\n",
    "    charge_list = []\n",
    "    discharge_list = []\n",
    "    net_output_list = []\n",
    "\n",
    "    for pv_power in df['pv_output_kW']:\n",
    "        charge_power = discharge_power = 0\n",
    "\n",
    "        if pv_power > 0:\n",
    "            # Max charge\n",
    "            max_charge_energy = (capacity_kWh - soc) / charge_eff\n",
    "            max_charge_power = max_charge_energy / dt_hours\n",
    "            charge_power = min(pv_power, max_charge_power)\n",
    "            soc += charge_power * dt_hours * charge_eff\n",
    "\n",
    "        # Battery discharge logic\n",
    "\n",
    "        net_output = pv_power - charge_power + discharge_power\n",
    "\n",
    "        charge_list.append(charge_power)\n",
    "        discharge_list.append(discharge_power)\n",
    "        soc_list.append(soc)\n",
    "        net_output_list.append(net_output)\n",
    "\n",
    "    df['battery_charge_kW'] = charge_list\n",
    "    df['battery_discharge_kW'] = discharge_list\n",
    "    df['battery_soc_kWh'] = soc_list\n",
    "    df['net_output_kW'] = net_output_list\n",
    "    return df\n"
   ]
  },
  {
   "cell_type": "code",
   "execution_count": 20,
   "id": "daafd857-d546-4f12-bcec-9adfc0480c02",
   "metadata": {},
   "outputs": [],
   "source": [
    "# Run battery simulation\n",
    "results = simulate_battery_1min_kW(df)\n"
   ]
  },
  {
   "cell_type": "code",
   "execution_count": 21,
   "id": "25a5a40a-b0d5-4fd2-9660-e23d20513b56",
   "metadata": {},
   "outputs": [
    {
     "data": {
      "text/html": [
       "<div>\n",
       "<style scoped>\n",
       "    .dataframe tbody tr th:only-of-type {\n",
       "        vertical-align: middle;\n",
       "    }\n",
       "\n",
       "    .dataframe tbody tr th {\n",
       "        vertical-align: top;\n",
       "    }\n",
       "\n",
       "    .dataframe thead th {\n",
       "        text-align: right;\n",
       "    }\n",
       "</style>\n",
       "<table border=\"1\" class=\"dataframe\">\n",
       "  <thead>\n",
       "    <tr style=\"text-align: right;\">\n",
       "      <th></th>\n",
       "      <th>timestamp</th>\n",
       "      <th>pv_output_kW</th>\n",
       "      <th>battery_charge_kW</th>\n",
       "      <th>battery_discharge_kW</th>\n",
       "      <th>battery_soc_kWh</th>\n",
       "      <th>net_output_kW</th>\n",
       "    </tr>\n",
       "  </thead>\n",
       "  <tbody>\n",
       "    <tr>\n",
       "      <th>2025-01-11 00:00:00+00:00</th>\n",
       "      <td>2025-01-11 00:00:00+00:00</td>\n",
       "      <td>0.0</td>\n",
       "      <td>0.0</td>\n",
       "      <td>0</td>\n",
       "      <td>0.0</td>\n",
       "      <td>0.0</td>\n",
       "    </tr>\n",
       "    <tr>\n",
       "      <th>2025-01-11 00:01:00+00:00</th>\n",
       "      <td>2025-01-11 00:01:00+00:00</td>\n",
       "      <td>0.0</td>\n",
       "      <td>0.0</td>\n",
       "      <td>0</td>\n",
       "      <td>0.0</td>\n",
       "      <td>0.0</td>\n",
       "    </tr>\n",
       "    <tr>\n",
       "      <th>2025-01-11 00:02:00+00:00</th>\n",
       "      <td>2025-01-11 00:02:00+00:00</td>\n",
       "      <td>0.0</td>\n",
       "      <td>0.0</td>\n",
       "      <td>0</td>\n",
       "      <td>0.0</td>\n",
       "      <td>0.0</td>\n",
       "    </tr>\n",
       "    <tr>\n",
       "      <th>2025-01-11 00:03:00+00:00</th>\n",
       "      <td>2025-01-11 00:03:00+00:00</td>\n",
       "      <td>0.0</td>\n",
       "      <td>0.0</td>\n",
       "      <td>0</td>\n",
       "      <td>0.0</td>\n",
       "      <td>0.0</td>\n",
       "    </tr>\n",
       "    <tr>\n",
       "      <th>2025-01-11 00:04:00+00:00</th>\n",
       "      <td>2025-01-11 00:04:00+00:00</td>\n",
       "      <td>0.0</td>\n",
       "      <td>0.0</td>\n",
       "      <td>0</td>\n",
       "      <td>0.0</td>\n",
       "      <td>0.0</td>\n",
       "    </tr>\n",
       "  </tbody>\n",
       "</table>\n",
       "</div>"
      ],
      "text/plain": [
       "                                          timestamp  pv_output_kW  \\\n",
       "2025-01-11 00:00:00+00:00 2025-01-11 00:00:00+00:00           0.0   \n",
       "2025-01-11 00:01:00+00:00 2025-01-11 00:01:00+00:00           0.0   \n",
       "2025-01-11 00:02:00+00:00 2025-01-11 00:02:00+00:00           0.0   \n",
       "2025-01-11 00:03:00+00:00 2025-01-11 00:03:00+00:00           0.0   \n",
       "2025-01-11 00:04:00+00:00 2025-01-11 00:04:00+00:00           0.0   \n",
       "\n",
       "                           battery_charge_kW  battery_discharge_kW  \\\n",
       "2025-01-11 00:00:00+00:00                0.0                     0   \n",
       "2025-01-11 00:01:00+00:00                0.0                     0   \n",
       "2025-01-11 00:02:00+00:00                0.0                     0   \n",
       "2025-01-11 00:03:00+00:00                0.0                     0   \n",
       "2025-01-11 00:04:00+00:00                0.0                     0   \n",
       "\n",
       "                           battery_soc_kWh  net_output_kW  \n",
       "2025-01-11 00:00:00+00:00              0.0            0.0  \n",
       "2025-01-11 00:01:00+00:00              0.0            0.0  \n",
       "2025-01-11 00:02:00+00:00              0.0            0.0  \n",
       "2025-01-11 00:03:00+00:00              0.0            0.0  \n",
       "2025-01-11 00:04:00+00:00              0.0            0.0  "
      ]
     },
     "execution_count": 21,
     "metadata": {},
     "output_type": "execute_result"
    }
   ],
   "source": [
    "results.head()"
   ]
  },
  {
   "cell_type": "code",
   "execution_count": 28,
   "id": "ce784a57-fbfe-4a5e-98e8-7e706bb7a295",
   "metadata": {},
   "outputs": [
    {
     "data": {
      "image/png": "[encoded data removed]",
      "text/plain": [
       "<Figure size 1200x400 with 1 Axes>"
      ]
     },
     "metadata": {},
     "output_type": "display_data"
    }
   ],
   "source": [
    "import matplotlib.pyplot as plt\n",
    "\n",
    "plt.figure(figsize=(12, 4))\n",
    "plt.plot(results['timestamp'], results['pv_output_kW'], label='PV output (kW)')\n",
    "plt.plot(results['timestamp'], results['battery_soc_kWh'], label='Battery SoC (kWh)')\n",
    "plt.plot(results['timestamp'], results['net_output_kW'], label='Net output (kW)')\n",
    "plt.legend()\n",
    "plt.title('1-Minute PV + Battery Simulation (Power Flows)')\n",
    "plt.xlabel('Time')\n",
    "plt.ylabel('Power (kW)')\n",
    "plt.grid(True)\n",
    "\n",
    "plt.gca().xaxis.set_major_formatter(mdates.DateFormatter('%H:%M'))\n",
    "\n",
    "plt.xticks(rotation=45)\n",
    "plt.tight_layout()\n",
    "plt.savefig('PV_load.png', dpi = 300)\n",
    "plt.show()\n"
   ]
  },
  {
   "cell_type": "code",
   "execution_count": 23,
   "id": "d2ea1a0a-51d4-42ac-8fc4-800fa01c2f7b",
   "metadata": {},
   "outputs": [],
   "source": [
    "# Exporting results to csv\n",
    "results.to_csv('pv_battery_1min_11jan2025.csv', index=False)"
   ]
  },
  {
   "cell_type": "code",
   "execution_count": 24,
   "id": "726a5ebe-5998-451e-82f6-2232a47fc226",
   "metadata": {},
   "outputs": [
    {
     "name": "stdout",
     "output_type": "stream",
     "text": [
      "11 Jan - Total PV Output: 2.795546768222562 kW\n"
     ]
    }
   ],
   "source": [
    "# Max PV output by day\n",
    "print(\"11 Jan - Total PV Output:\", results['pv_output_kW'].max(), \"kW\")"
   ]
  },
  {
   "cell_type": "code",
   "execution_count": 25,
   "id": "1da86529-17cd-4b1e-bcda-b73591b1b22b",
   "metadata": {},
   "outputs": [
    {
     "name": "stdout",
     "output_type": "stream",
     "text": [
      "Total energy output from PV: 13.78 kWh\n"
     ]
    }
   ],
   "source": [
    "total_energy_kWh = results['pv_output_kW'].sum() * (1/60)\n",
    "print(f\"Total energy output from PV: {total_energy_kWh:.2f} kWh\")\n"
   ]
  },
  {
   "cell_type": "code",
   "execution_count": 26,
   "id": "b63c78b2-dfbb-41d9-8de9-000cf7884673",
   "metadata": {},
   "outputs": [
    {
     "name": "stdout",
     "output_type": "stream",
     "text": [
      "11 Jan - Battery reached 5 kWh at: 2025-01-11 11:33:00+00:00\n"
     ]
    }
   ],
   "source": [
    "# Time when battery first reached full capacity (5 kWh)\n",
    "first_full = results[results['battery_soc_kWh'] >= 5.0].iloc[0]['timestamp']\n",
    "\n",
    "print(\"11 Jan - Battery reached 5 kWh at:\", first_full)\n"
   ]
  },
  {
   "cell_type": "code",
   "execution_count": 27,
   "id": "991919c2-7ae4-4fb8-970a-e4042c519294",
   "metadata": {},
   "outputs": [
    {
     "data": {
      "text/plain": [
       "Total PV Output (kWh)             13.781\n",
       "Total Battery Charged (kWh)        5.270\n",
       "Total Battery Discharged (kWh)     0.000\n",
       "Final Battery SoC (kWh)            5.000\n",
       "Total Net Output to Grid (kWh)     8.511\n",
       "dtype: float64"
      ]
     },
     "execution_count": 27,
     "metadata": {},
     "output_type": "execute_result"
    }
   ],
   "source": [
    "energy_summary = {\n",
    "    'Total PV Output (kWh)': results['pv_output_kW'].sum() / 60,\n",
    "    'Total Battery Charged (kWh)': results['battery_charge_kW'].sum() / 60,\n",
    "    'Total Battery Discharged (kWh)': results['battery_discharge_kW'].sum() / 60,\n",
    "    'Final Battery SoC (kWh)': results['battery_soc_kWh'].iloc[-1],\n",
    "    'Total Net Output to Grid (kWh)': results['net_output_kW'].sum() / 60\n",
    "}\n",
    "\n",
    "pd.Series(energy_summary).round(3)\n"
   ]
  },
  {
   "cell_type": "code",
   "execution_count": null,
   "id": "f8de5b41-59e2-4548-a80c-56433d9ffc06",
   "metadata": {},
   "outputs": [],
   "source": []
  }
 ],
 "metadata": {
  "kernelspec": {
   "display_name": "Python 3 (ipykernel)",
   "language": "python",
   "name": "python3"
  },
  "language_info": {
   "codemirror_mode": {
    "name": "ipython",
    "version": 3
   },
   "file_extension": ".py",
   "mimetype": "text/x-python",
   "name": "python",
   "nbconvert_exporter": "python",
   "pygments_lexer": "ipython3",
   "version": "3.12.7"
  }
 },
 "nbformat": 4,
 "nbformat_minor": 5
}
