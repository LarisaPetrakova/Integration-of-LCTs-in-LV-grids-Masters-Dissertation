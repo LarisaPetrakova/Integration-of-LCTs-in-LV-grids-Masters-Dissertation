{
 "cells": [
  {
   "cell_type": "code",
   "execution_count": 16,
   "id": "66f5e64e-798e-47fd-aad0-c5c1ac67a6a8",
   "metadata": {},
   "outputs": [],
   "source": [
    "import os\n",
    "import pandas as pd\n",
    "from itertools import product\n",
    "import numpy as np\n",
    "import pypsa\n",
    "\n",
    "def get_filename(root_dir, combo, weekend=True):\n",
    "    daytype = \"WE\" if weekend else \"WD\"\n",
    "    if combo:\n",
    "        combo_str = \"_\".join(combo)\n",
    "        filename = f\"Base_load_{daytype}_{combo_str}_aggregated.csv\"\n",
    "    else:\n",
    "        filename = f\"Base_load_{daytype}_aggregated.csv\"\n",
    "    return os.path.join(root_dir, filename)\n",
    "\n",
    "def generate_scenario_profiles(hp_share, ev_share, pv_share, root_dir, weekend=True, insulation=\"current\"):\n",
    "    total_houses = 40\n",
    "    tech_targets = {\n",
    "        \"HP\": int(total_houses * hp_share),\n",
    "        \"EV\": int(total_houses * ev_share),\n",
    "        \"PV\": int(total_houses * pv_share)\n",
    "    }\n",
    "\n",
    "    house_assignments = []\n",
    "    remaining = tech_targets.copy()\n",
    "    remaining_houses = total_houses\n",
    "\n",
    "    tech_combinations = [\n",
    "        (), (\"HP\",), (\"EV\",), (\"PV\",),\n",
    "        (\"HP\", \"EV\"), (\"HP\", \"PV\"), (\"EV\", \"PV\"), (\"HP\", \"EV\", \"PV\")\n",
    "    ]\n",
    "\n",
    "    sorted_combos = sorted(tech_combinations, key=lambda x: -len(x))\n",
    "\n",
    "    for combo in sorted_combos:\n",
    "        if remaining_houses == 0:\n",
    "            break\n",
    "        if not combo:\n",
    "            count = remaining_houses\n",
    "        else:\n",
    "            max_possible = min(remaining[t] for t in combo)\n",
    "            count = min(max_possible, remaining_houses)\n",
    "\n",
    "        if count > 0:\n",
    "            house_assignments.append((combo, count))\n",
    "            for t in combo:\n",
    "                remaining[t] -= count\n",
    "            remaining_houses -= count\n",
    "\n",
    "    # Load HP master file once\n",
    "    daytype = \"WE\" if weekend else \"WD\"\n",
    "    hp_file_path = os.path.join(root_dir, f\"Base_load_{daytype}_HP_aggregated.csv\")\n",
    "    if not os.path.exists(hp_file_path):\n",
    "        raise FileNotFoundError(f\"HP profile file not found: {hp_file_path}\")\n",
    "    df_hp = pd.read_csv(hp_file_path, index_col=0)\n",
    "\n",
    "    # Prepare insulation filter map\n",
    "    insulation_shares = {\n",
    "        \"current\": {\"poor\": 0.0964, \"avg\": 0.8823, \"good\": 0.0213},\n",
    "        \"upgraded\": {\"good\": 1.0}\n",
    "    }[insulation]\n",
    "\n",
    "    # Sampling buffer\n",
    "    final_profiles = []\n",
    "    master_index = df_hp.index[:1440]\n",
    "\n",
    "    for combo, count in house_assignments:\n",
    "        if combo == (\"HP\",):\n",
    "            for ins_level, share in insulation_shares.items():\n",
    "                n = round(count * share)\n",
    "                if n == 0:\n",
    "                    continue\n",
    "                # Filter columns with this insulation level\n",
    "                cols = [col for col in df_hp.columns if f\"+{ins_level}_\" in col]\n",
    "                if len(cols) < n:\n",
    "                    raise ValueError(f\"Not enough HP profiles for {ins_level}: need {n}, found {len(cols)}\")\n",
    "                selected = df_hp[cols].sample(n=n, axis=1, random_state=42)\n",
    "                selected = selected.reindex(index=master_index)\n",
    "                final_profiles.append(selected)\n",
    "        else:\n",
    "            # Load other tech combinations\n",
    "            path = get_filename(root_dir, combo, weekend)\n",
    "            if not os.path.exists(path):\n",
    "                raise FileNotFoundError(f\"Required file not found: {path}\")\n",
    "            df = pd.read_csv(path, index_col=0)\n",
    "            selected = df.sample(n=count, axis=1, replace=False, random_state=42)\n",
    "            selected = selected.reindex(index=master_index)\n",
    "            final_profiles.append(selected)\n",
    "\n",
    "    df_combined = pd.concat(final_profiles, axis=1)\n",
    "    df_combined.columns = [f\"House_{i+1}\" for i in range(df_combined.shape[1])]\n",
    "    return df_combined\n"
   ]
  },
  {
   "cell_type": "code",
   "execution_count": 17,
   "id": "f60358fb-d1f3-408f-ac9b-1d15c888a767",
   "metadata": {},
   "outputs": [],
   "source": [
    "\n",
    "# ------------------------\n",
    "# Simulation Setup\n",
    "# ------------------------\n",
    "hp_levels = [0.0, 0.25, 0.5, 0.75, 1.0]\n",
    "ev_levels = [0.0, 0.25, 0.5]\n",
    "pv_levels = [0.0, 0.25, 0.5, 0.75, 1.0]\n",
    "n_houses = 40\n",
    "root_dir = \"Sources/new\"\n",
    "is_weekend = True"
   ]
  },
  {
   "cell_type": "code",
   "execution_count": 18,
   "id": "ff7abdfe-0c07-4f4f-a66f-f6a3dda49cd9",
   "metadata": {},
   "outputs": [],
   "source": [
    "import pypsa\n",
    "\n",
    "# Cable parameters (95 mm² Al, ~230 A rating, XLPE)\n",
    "cable_r_per_m = 0.00032  # Ohm/m\n",
    "cable_x_per_m = 0.00008  # Ohm/m\n",
    "segment_length_m = 5\n",
    "line_r = cable_r_per_m * segment_length_m # = 0.0016 Ohm\n",
    "line_x = cable_x_per_m * segment_length_m # = 0.0004 Ohm\n",
    "line_s_nom = 0.16   # MVA, ~160 kVA line rating"
   ]
  },
  {
   "cell_type": "code",
   "execution_count": null,
   "id": "07059880-1920-4ef1-8ab3-f760aa1bfb59",
   "metadata": {
    "scrolled": true
   },
   "outputs": [
    {
     "name": "stdout",
     "output_type": "stream",
     "text": [
      "Running: HP=0.0, EV=0.0, PV=0.0, Insul=current\n"
     ]
    },
    {
     "name": "stderr",
     "output_type": "stream",
     "text": [
      "INFO:pypsa.network.power_flow:Performing non-linear load-flow on AC sub-network <pypsa.networks.SubNetwork object at 0x301f1d910> for snapshots Index(['00:00:00', '00:01:00', '00:02:00', '00:03:00', '00:04:00', '00:05:00',\n",
      "       '00:06:00', '00:07:00', '00:08:00', '00:09:00',\n",
      "       ...\n",
      "       '23:50:00', '23:51:00', '23:52:00', '23:53:00', '23:54:00', '23:55:00',\n",
      "       '23:56:00', '23:57:00', '23:58:00', '23:59:00'],\n",
      "      dtype='object', name='snapshot', length=1440)\n"
     ]
    },
    {
     "name": "stdout",
     "output_type": "stream",
     "text": [
      "Running: HP=0.0, EV=0.0, PV=0.25, Insul=current\n"
     ]
    },
    {
     "name": "stderr",
     "output_type": "stream",
     "text": [
      "INFO:pypsa.network.power_flow:Performing non-linear load-flow on AC sub-network <pypsa.networks.SubNetwork object at 0x30327c1a0> for snapshots Index(['00:00:00', '00:01:00', '00:02:00', '00:03:00', '00:04:00', '00:05:00',\n",
      "       '00:06:00', '00:07:00', '00:08:00', '00:09:00',\n",
      "       ...\n",
      "       '23:50:00', '23:51:00', '23:52:00', '23:53:00', '23:54:00', '23:55:00',\n",
      "       '23:56:00', '23:57:00', '23:58:00', '23:59:00'],\n",
      "      dtype='object', name='snapshot', length=1440)\n"
     ]
    },
    {
     "name": "stdout",
     "output_type": "stream",
     "text": [
      "Running: HP=0.0, EV=0.0, PV=0.5, Insul=current\n"
     ]
    },
    {
     "name": "stderr",
     "output_type": "stream",
     "text": [
      "INFO:pypsa.network.power_flow:Performing non-linear load-flow on AC sub-network <pypsa.networks.SubNetwork object at 0x3007ba660> for snapshots Index(['00:00:00', '00:01:00', '00:02:00', '00:03:00', '00:04:00', '00:05:00',\n",
      "       '00:06:00', '00:07:00', '00:08:00', '00:09:00',\n",
      "       ...\n",
      "       '23:50:00', '23:51:00', '23:52:00', '23:53:00', '23:54:00', '23:55:00',\n",
      "       '23:56:00', '23:57:00', '23:58:00', '23:59:00'],\n",
      "      dtype='object', name='snapshot', length=1440)\n"
     ]
    },
    {
     "name": "stdout",
     "output_type": "stream",
     "text": [
      "Running: HP=0.0, EV=0.0, PV=0.75, Insul=current\n"
     ]
    },
    {
     "name": "stderr",
     "output_type": "stream",
     "text": [
      "INFO:pypsa.network.power_flow:Performing non-linear load-flow on AC sub-network <pypsa.networks.SubNetwork object at 0x165b01a60> for snapshots Index(['00:00:00', '00:01:00', '00:02:00', '00:03:00', '00:04:00', '00:05:00',\n",
      "       '00:06:00', '00:07:00', '00:08:00', '00:09:00',\n",
      "       ...\n",
      "       '23:50:00', '23:51:00', '23:52:00', '23:53:00', '23:54:00', '23:55:00',\n",
      "       '23:56:00', '23:57:00', '23:58:00', '23:59:00'],\n",
      "      dtype='object', name='snapshot', length=1440)\n"
     ]
    },
    {
     "name": "stdout",
     "output_type": "stream",
     "text": [
      "Running: HP=0.0, EV=0.0, PV=1.0, Insul=current\n"
     ]
    },
    {
     "name": "stderr",
     "output_type": "stream",
     "text": [
      "INFO:pypsa.network.power_flow:Performing non-linear load-flow on AC sub-network <pypsa.networks.SubNetwork object at 0x167246c60> for snapshots Index(['00:00:00', '00:01:00', '00:02:00', '00:03:00', '00:04:00', '00:05:00',\n",
      "       '00:06:00', '00:07:00', '00:08:00', '00:09:00',\n",
      "       ...\n",
      "       '23:50:00', '23:51:00', '23:52:00', '23:53:00', '23:54:00', '23:55:00',\n",
      "       '23:56:00', '23:57:00', '23:58:00', '23:59:00'],\n",
      "      dtype='object', name='snapshot', length=1440)\n"
     ]
    },
    {
     "name": "stdout",
     "output_type": "stream",
     "text": [
      "Running: HP=0.0, EV=0.25, PV=0.0, Insul=current\n"
     ]
    },
    {
     "name": "stderr",
     "output_type": "stream",
     "text": [
      "INFO:pypsa.network.power_flow:Performing non-linear load-flow on AC sub-network <pypsa.networks.SubNetwork object at 0x303289bb0> for snapshots Index(['00:00:00', '00:01:00', '00:02:00', '00:03:00', '00:04:00', '00:05:00',\n",
      "       '00:06:00', '00:07:00', '00:08:00', '00:09:00',\n",
      "       ...\n",
      "       '23:50:00', '23:51:00', '23:52:00', '23:53:00', '23:54:00', '23:55:00',\n",
      "       '23:56:00', '23:57:00', '23:58:00', '23:59:00'],\n",
      "      dtype='object', name='snapshot', length=1440)\n"
     ]
    },
    {
     "name": "stdout",
     "output_type": "stream",
     "text": [
      "Running: HP=0.0, EV=0.25, PV=0.25, Insul=current\n"
     ]
    },
    {
     "name": "stderr",
     "output_type": "stream",
     "text": [
      "INFO:pypsa.network.power_flow:Performing non-linear load-flow on AC sub-network <pypsa.networks.SubNetwork object at 0x302253a40> for snapshots Index(['00:00:00', '00:01:00', '00:02:00', '00:03:00', '00:04:00', '00:05:00',\n",
      "       '00:06:00', '00:07:00', '00:08:00', '00:09:00',\n",
      "       ...\n",
      "       '23:50:00', '23:51:00', '23:52:00', '23:53:00', '23:54:00', '23:55:00',\n",
      "       '23:56:00', '23:57:00', '23:58:00', '23:59:00'],\n",
      "      dtype='object', name='snapshot', length=1440)\n"
     ]
    },
    {
     "name": "stdout",
     "output_type": "stream",
     "text": [
      "Running: HP=0.0, EV=0.25, PV=0.5, Insul=current\n"
     ]
    },
    {
     "name": "stderr",
     "output_type": "stream",
     "text": [
      "INFO:pypsa.network.power_flow:Performing non-linear load-flow on AC sub-network <pypsa.networks.SubNetwork object at 0x301041130> for snapshots Index(['00:00:00', '00:01:00', '00:02:00', '00:03:00', '00:04:00', '00:05:00',\n",
      "       '00:06:00', '00:07:00', '00:08:00', '00:09:00',\n",
      "       ...\n",
      "       '23:50:00', '23:51:00', '23:52:00', '23:53:00', '23:54:00', '23:55:00',\n",
      "       '23:56:00', '23:57:00', '23:58:00', '23:59:00'],\n",
      "      dtype='object', name='snapshot', length=1440)\n"
     ]
    },
    {
     "name": "stdout",
     "output_type": "stream",
     "text": [
      "Running: HP=0.0, EV=0.25, PV=0.75, Insul=current\n"
     ]
    },
    {
     "name": "stderr",
     "output_type": "stream",
     "text": [
      "INFO:pypsa.network.power_flow:Performing non-linear load-flow on AC sub-network <pypsa.networks.SubNetwork object at 0x3040698e0> for snapshots Index(['00:00:00', '00:01:00', '00:02:00', '00:03:00', '00:04:00', '00:05:00',\n",
      "       '00:06:00', '00:07:00', '00:08:00', '00:09:00',\n",
      "       ...\n",
      "       '23:50:00', '23:51:00', '23:52:00', '23:53:00', '23:54:00', '23:55:00',\n",
      "       '23:56:00', '23:57:00', '23:58:00', '23:59:00'],\n",
      "      dtype='object', name='snapshot', length=1440)\n"
     ]
    },
    {
     "name": "stdout",
     "output_type": "stream",
     "text": [
      "Running: HP=0.0, EV=0.25, PV=1.0, Insul=current\n"
     ]
    },
    {
     "name": "stderr",
     "output_type": "stream",
     "text": [
      "INFO:pypsa.network.power_flow:Performing non-linear load-flow on AC sub-network <pypsa.networks.SubNetwork object at 0x301fa9a60> for snapshots Index(['00:00:00', '00:01:00', '00:02:00', '00:03:00', '00:04:00', '00:05:00',\n",
      "       '00:06:00', '00:07:00', '00:08:00', '00:09:00',\n",
      "       ...\n",
      "       '23:50:00', '23:51:00', '23:52:00', '23:53:00', '23:54:00', '23:55:00',\n",
      "       '23:56:00', '23:57:00', '23:58:00', '23:59:00'],\n",
      "      dtype='object', name='snapshot', length=1440)\n"
     ]
    },
    {
     "name": "stdout",
     "output_type": "stream",
     "text": [
      "Running: HP=0.0, EV=0.5, PV=0.0, Insul=current\n"
     ]
    },
    {
     "name": "stderr",
     "output_type": "stream",
     "text": [
      "INFO:pypsa.network.power_flow:Performing non-linear load-flow on AC sub-network <pypsa.networks.SubNetwork object at 0x165279850> for snapshots Index(['00:00:00', '00:01:00', '00:02:00', '00:03:00', '00:04:00', '00:05:00',\n",
      "       '00:06:00', '00:07:00', '00:08:00', '00:09:00',\n",
      "       ...\n",
      "       '23:50:00', '23:51:00', '23:52:00', '23:53:00', '23:54:00', '23:55:00',\n",
      "       '23:56:00', '23:57:00', '23:58:00', '23:59:00'],\n",
      "      dtype='object', name='snapshot', length=1440)\n"
     ]
    },
    {
     "name": "stdout",
     "output_type": "stream",
     "text": [
      "Running: HP=0.0, EV=0.5, PV=0.25, Insul=current\n"
     ]
    },
    {
     "name": "stderr",
     "output_type": "stream",
     "text": [
      "INFO:pypsa.network.power_flow:Performing non-linear load-flow on AC sub-network <pypsa.networks.SubNetwork object at 0x3043db770> for snapshots Index(['00:00:00', '00:01:00', '00:02:00', '00:03:00', '00:04:00', '00:05:00',\n",
      "       '00:06:00', '00:07:00', '00:08:00', '00:09:00',\n",
      "       ...\n",
      "       '23:50:00', '23:51:00', '23:52:00', '23:53:00', '23:54:00', '23:55:00',\n",
      "       '23:56:00', '23:57:00', '23:58:00', '23:59:00'],\n",
      "      dtype='object', name='snapshot', length=1440)\n"
     ]
    },
    {
     "name": "stdout",
     "output_type": "stream",
     "text": [
      "Running: HP=0.0, EV=0.5, PV=0.5, Insul=current\n"
     ]
    },
    {
     "name": "stderr",
     "output_type": "stream",
     "text": [
      "INFO:pypsa.network.power_flow:Performing non-linear load-flow on AC sub-network <pypsa.networks.SubNetwork object at 0x30234fb60> for snapshots Index(['00:00:00', '00:01:00', '00:02:00', '00:03:00', '00:04:00', '00:05:00',\n",
      "       '00:06:00', '00:07:00', '00:08:00', '00:09:00',\n",
      "       ...\n",
      "       '23:50:00', '23:51:00', '23:52:00', '23:53:00', '23:54:00', '23:55:00',\n",
      "       '23:56:00', '23:57:00', '23:58:00', '23:59:00'],\n",
      "      dtype='object', name='snapshot', length=1440)\n"
     ]
    },
    {
     "name": "stdout",
     "output_type": "stream",
     "text": [
      "Running: HP=0.0, EV=0.5, PV=0.75, Insul=current\n"
     ]
    },
    {
     "name": "stderr",
     "output_type": "stream",
     "text": [
      "INFO:pypsa.network.power_flow:Performing non-linear load-flow on AC sub-network <pypsa.networks.SubNetwork object at 0x30433cb00> for snapshots Index(['00:00:00', '00:01:00', '00:02:00', '00:03:00', '00:04:00', '00:05:00',\n",
      "       '00:06:00', '00:07:00', '00:08:00', '00:09:00',\n",
      "       ...\n",
      "       '23:50:00', '23:51:00', '23:52:00', '23:53:00', '23:54:00', '23:55:00',\n",
      "       '23:56:00', '23:57:00', '23:58:00', '23:59:00'],\n",
      "      dtype='object', name='snapshot', length=1440)\n"
     ]
    },
    {
     "name": "stdout",
     "output_type": "stream",
     "text": [
      "Running: HP=0.0, EV=0.5, PV=1.0, Insul=current\n"
     ]
    },
    {
     "name": "stderr",
     "output_type": "stream",
     "text": [
      "INFO:pypsa.network.power_flow:Performing non-linear load-flow on AC sub-network <pypsa.networks.SubNetwork object at 0x304197b90> for snapshots Index(['00:00:00', '00:01:00', '00:02:00', '00:03:00', '00:04:00', '00:05:00',\n",
      "       '00:06:00', '00:07:00', '00:08:00', '00:09:00',\n",
      "       ...\n",
      "       '23:50:00', '23:51:00', '23:52:00', '23:53:00', '23:54:00', '23:55:00',\n",
      "       '23:56:00', '23:57:00', '23:58:00', '23:59:00'],\n",
      "      dtype='object', name='snapshot', length=1440)\n"
     ]
    },
    {
     "name": "stdout",
     "output_type": "stream",
     "text": [
      "Running: HP=0.25, EV=0.0, PV=0.0, Insul=current\n"
     ]
    },
    {
     "name": "stderr",
     "output_type": "stream",
     "text": [
      "INFO:pypsa.network.power_flow:Performing non-linear load-flow on AC sub-network <pypsa.networks.SubNetwork object at 0x302077b90> for snapshots Index(['00:00:00', '00:01:00', '00:02:00', '00:03:00', '00:04:00', '00:05:00',\n",
      "       '00:06:00', '00:07:00', '00:08:00', '00:09:00',\n",
      "       ...\n",
      "       '23:50:00', '23:51:00', '23:52:00', '23:53:00', '23:54:00', '23:55:00',\n",
      "       '23:56:00', '23:57:00', '23:58:00', '23:59:00'],\n",
      "      dtype='object', name='snapshot', length=1440)\n"
     ]
    },
    {
     "name": "stdout",
     "output_type": "stream",
     "text": [
      "Running: HP=0.25, EV=0.0, PV=0.25, Insul=current\n"
     ]
    },
    {
     "name": "stderr",
     "output_type": "stream",
     "text": [
      "INFO:pypsa.network.power_flow:Performing non-linear load-flow on AC sub-network <pypsa.networks.SubNetwork object at 0x1651cd160> for snapshots Index(['00:00:00', '00:01:00', '00:02:00', '00:03:00', '00:04:00', '00:05:00',\n",
      "       '00:06:00', '00:07:00', '00:08:00', '00:09:00',\n",
      "       ...\n",
      "       '23:50:00', '23:51:00', '23:52:00', '23:53:00', '23:54:00', '23:55:00',\n",
      "       '23:56:00', '23:57:00', '23:58:00', '23:59:00'],\n",
      "      dtype='object', name='snapshot', length=1440)\n"
     ]
    },
    {
     "name": "stdout",
     "output_type": "stream",
     "text": [
      "Running: HP=0.25, EV=0.0, PV=0.5, Insul=current\n"
     ]
    },
    {
     "name": "stderr",
     "output_type": "stream",
     "text": [
      "INFO:pypsa.network.power_flow:Performing non-linear load-flow on AC sub-network <pypsa.networks.SubNetwork object at 0x3023afaa0> for snapshots Index(['00:00:00', '00:01:00', '00:02:00', '00:03:00', '00:04:00', '00:05:00',\n",
      "       '00:06:00', '00:07:00', '00:08:00', '00:09:00',\n",
      "       ...\n",
      "       '23:50:00', '23:51:00', '23:52:00', '23:53:00', '23:54:00', '23:55:00',\n",
      "       '23:56:00', '23:57:00', '23:58:00', '23:59:00'],\n",
      "      dtype='object', name='snapshot', length=1440)\n"
     ]
    },
    {
     "name": "stdout",
     "output_type": "stream",
     "text": [
      "Running: HP=0.25, EV=0.0, PV=0.75, Insul=current\n"
     ]
    },
    {
     "name": "stderr",
     "output_type": "stream",
     "text": [
      "INFO:pypsa.network.power_flow:Performing non-linear load-flow on AC sub-network <pypsa.networks.SubNetwork object at 0x304028a40> for snapshots Index(['00:00:00', '00:01:00', '00:02:00', '00:03:00', '00:04:00', '00:05:00',\n",
      "       '00:06:00', '00:07:00', '00:08:00', '00:09:00',\n",
      "       ...\n",
      "       '23:50:00', '23:51:00', '23:52:00', '23:53:00', '23:54:00', '23:55:00',\n",
      "       '23:56:00', '23:57:00', '23:58:00', '23:59:00'],\n",
      "      dtype='object', name='snapshot', length=1440)\n"
     ]
    },
    {
     "name": "stdout",
     "output_type": "stream",
     "text": [
      "Running: HP=0.25, EV=0.0, PV=1.0, Insul=current\n"
     ]
    },
    {
     "name": "stderr",
     "output_type": "stream",
     "text": [
      "INFO:pypsa.network.power_flow:Performing non-linear load-flow on AC sub-network <pypsa.networks.SubNetwork object at 0x301e9d040> for snapshots Index(['00:00:00', '00:01:00', '00:02:00', '00:03:00', '00:04:00', '00:05:00',\n",
      "       '00:06:00', '00:07:00', '00:08:00', '00:09:00',\n",
      "       ...\n",
      "       '23:50:00', '23:51:00', '23:52:00', '23:53:00', '23:54:00', '23:55:00',\n",
      "       '23:56:00', '23:57:00', '23:58:00', '23:59:00'],\n",
      "      dtype='object', name='snapshot', length=1440)\n"
     ]
    },
    {
     "name": "stdout",
     "output_type": "stream",
     "text": [
      "Running: HP=0.25, EV=0.25, PV=0.0, Insul=current\n"
     ]
    },
    {
     "name": "stderr",
     "output_type": "stream",
     "text": [
      "INFO:pypsa.network.power_flow:Performing non-linear load-flow on AC sub-network <pypsa.networks.SubNetwork object at 0x30327dca0> for snapshots Index(['00:00:00', '00:01:00', '00:02:00', '00:03:00', '00:04:00', '00:05:00',\n",
      "       '00:06:00', '00:07:00', '00:08:00', '00:09:00',\n",
      "       ...\n",
      "       '23:50:00', '23:51:00', '23:52:00', '23:53:00', '23:54:00', '23:55:00',\n",
      "       '23:56:00', '23:57:00', '23:58:00', '23:59:00'],\n",
      "      dtype='object', name='snapshot', length=1440)\n"
     ]
    },
    {
     "name": "stdout",
     "output_type": "stream",
     "text": [
      "Running: HP=0.25, EV=0.25, PV=0.25, Insul=current\n"
     ]
    },
    {
     "name": "stderr",
     "output_type": "stream",
     "text": [
      "INFO:pypsa.network.power_flow:Performing non-linear load-flow on AC sub-network <pypsa.networks.SubNetwork object at 0x302075610> for snapshots Index(['00:00:00', '00:01:00', '00:02:00', '00:03:00', '00:04:00', '00:05:00',\n",
      "       '00:06:00', '00:07:00', '00:08:00', '00:09:00',\n",
      "       ...\n",
      "       '23:50:00', '23:51:00', '23:52:00', '23:53:00', '23:54:00', '23:55:00',\n",
      "       '23:56:00', '23:57:00', '23:58:00', '23:59:00'],\n",
      "      dtype='object', name='snapshot', length=1440)\n"
     ]
    },
    {
     "name": "stdout",
     "output_type": "stream",
     "text": [
      "Running: HP=0.25, EV=0.25, PV=0.5, Insul=current\n"
     ]
    },
    {
     "name": "stderr",
     "output_type": "stream",
     "text": [
      "INFO:pypsa.network.power_flow:Performing non-linear load-flow on AC sub-network <pypsa.networks.SubNetwork object at 0x3022fb1d0> for snapshots Index(['00:00:00', '00:01:00', '00:02:00', '00:03:00', '00:04:00', '00:05:00',\n",
      "       '00:06:00', '00:07:00', '00:08:00', '00:09:00',\n",
      "       ...\n",
      "       '23:50:00', '23:51:00', '23:52:00', '23:53:00', '23:54:00', '23:55:00',\n",
      "       '23:56:00', '23:57:00', '23:58:00', '23:59:00'],\n",
      "      dtype='object', name='snapshot', length=1440)\n"
     ]
    },
    {
     "name": "stdout",
     "output_type": "stream",
     "text": [
      "Running: HP=0.25, EV=0.25, PV=0.75, Insul=current\n"
     ]
    },
    {
     "name": "stderr",
     "output_type": "stream",
     "text": [
      "INFO:pypsa.network.power_flow:Performing non-linear load-flow on AC sub-network <pypsa.networks.SubNetwork object at 0x304209c70> for snapshots Index(['00:00:00', '00:01:00', '00:02:00', '00:03:00', '00:04:00', '00:05:00',\n",
      "       '00:06:00', '00:07:00', '00:08:00', '00:09:00',\n",
      "       ...\n",
      "       '23:50:00', '23:51:00', '23:52:00', '23:53:00', '23:54:00', '23:55:00',\n",
      "       '23:56:00', '23:57:00', '23:58:00', '23:59:00'],\n",
      "      dtype='object', name='snapshot', length=1440)\n"
     ]
    },
    {
     "name": "stdout",
     "output_type": "stream",
     "text": [
      "Running: HP=0.25, EV=0.25, PV=1.0, Insul=current\n"
     ]
    },
    {
     "name": "stderr",
     "output_type": "stream",
     "text": [
      "INFO:pypsa.network.power_flow:Performing non-linear load-flow on AC sub-network <pypsa.networks.SubNetwork object at 0x167372840> for snapshots Index(['00:00:00', '00:01:00', '00:02:00', '00:03:00', '00:04:00', '00:05:00',\n",
      "       '00:06:00', '00:07:00', '00:08:00', '00:09:00',\n",
      "       ...\n",
      "       '23:50:00', '23:51:00', '23:52:00', '23:53:00', '23:54:00', '23:55:00',\n",
      "       '23:56:00', '23:57:00', '23:58:00', '23:59:00'],\n",
      "      dtype='object', name='snapshot', length=1440)\n"
     ]
    },
    {
     "name": "stdout",
     "output_type": "stream",
     "text": [
      "Running: HP=0.25, EV=0.5, PV=0.0, Insul=current\n"
     ]
    },
    {
     "name": "stderr",
     "output_type": "stream",
     "text": [
      "INFO:pypsa.network.power_flow:Performing non-linear load-flow on AC sub-network <pypsa.networks.SubNetwork object at 0x30328a4e0> for snapshots Index(['00:00:00', '00:01:00', '00:02:00', '00:03:00', '00:04:00', '00:05:00',\n",
      "       '00:06:00', '00:07:00', '00:08:00', '00:09:00',\n",
      "       ...\n",
      "       '23:50:00', '23:51:00', '23:52:00', '23:53:00', '23:54:00', '23:55:00',\n",
      "       '23:56:00', '23:57:00', '23:58:00', '23:59:00'],\n",
      "      dtype='object', name='snapshot', length=1440)\n"
     ]
    },
    {
     "name": "stdout",
     "output_type": "stream",
     "text": [
      "Running: HP=0.25, EV=0.5, PV=0.25, Insul=current\n"
     ]
    },
    {
     "name": "stderr",
     "output_type": "stream",
     "text": [
      "INFO:pypsa.network.power_flow:Performing non-linear load-flow on AC sub-network <pypsa.networks.SubNetwork object at 0x165c336b0> for snapshots Index(['00:00:00', '00:01:00', '00:02:00', '00:03:00', '00:04:00', '00:05:00',\n",
      "       '00:06:00', '00:07:00', '00:08:00', '00:09:00',\n",
      "       ...\n",
      "       '23:50:00', '23:51:00', '23:52:00', '23:53:00', '23:54:00', '23:55:00',\n",
      "       '23:56:00', '23:57:00', '23:58:00', '23:59:00'],\n",
      "      dtype='object', name='snapshot', length=1440)\n"
     ]
    },
    {
     "name": "stdout",
     "output_type": "stream",
     "text": [
      "Running: HP=0.25, EV=0.5, PV=0.5, Insul=current\n"
     ]
    },
    {
     "name": "stderr",
     "output_type": "stream",
     "text": [
      "INFO:pypsa.network.power_flow:Performing non-linear load-flow on AC sub-network <pypsa.networks.SubNetwork object at 0x30124bec0> for snapshots Index(['00:00:00', '00:01:00', '00:02:00', '00:03:00', '00:04:00', '00:05:00',\n",
      "       '00:06:00', '00:07:00', '00:08:00', '00:09:00',\n",
      "       ...\n",
      "       '23:50:00', '23:51:00', '23:52:00', '23:53:00', '23:54:00', '23:55:00',\n",
      "       '23:56:00', '23:57:00', '23:58:00', '23:59:00'],\n",
      "      dtype='object', name='snapshot', length=1440)\n"
     ]
    },
    {
     "name": "stdout",
     "output_type": "stream",
     "text": [
      "Running: HP=0.25, EV=0.5, PV=0.75, Insul=current\n"
     ]
    },
    {
     "name": "stderr",
     "output_type": "stream",
     "text": [
      "INFO:pypsa.network.power_flow:Performing non-linear load-flow on AC sub-network <pypsa.networks.SubNetwork object at 0x166419700> for snapshots Index(['00:00:00', '00:01:00', '00:02:00', '00:03:00', '00:04:00', '00:05:00',\n",
      "       '00:06:00', '00:07:00', '00:08:00', '00:09:00',\n",
      "       ...\n",
      "       '23:50:00', '23:51:00', '23:52:00', '23:53:00', '23:54:00', '23:55:00',\n",
      "       '23:56:00', '23:57:00', '23:58:00', '23:59:00'],\n",
      "      dtype='object', name='snapshot', length=1440)\n"
     ]
    },
    {
     "name": "stdout",
     "output_type": "stream",
     "text": [
      "Running: HP=0.25, EV=0.5, PV=1.0, Insul=current\n"
     ]
    },
    {
     "name": "stderr",
     "output_type": "stream",
     "text": [
      "INFO:pypsa.network.power_flow:Performing non-linear load-flow on AC sub-network <pypsa.networks.SubNetwork object at 0x304076960> for snapshots Index(['00:00:00', '00:01:00', '00:02:00', '00:03:00', '00:04:00', '00:05:00',\n",
      "       '00:06:00', '00:07:00', '00:08:00', '00:09:00',\n",
      "       ...\n",
      "       '23:50:00', '23:51:00', '23:52:00', '23:53:00', '23:54:00', '23:55:00',\n",
      "       '23:56:00', '23:57:00', '23:58:00', '23:59:00'],\n",
      "      dtype='object', name='snapshot', length=1440)\n"
     ]
    },
    {
     "name": "stdout",
     "output_type": "stream",
     "text": [
      "Running: HP=0.5, EV=0.0, PV=0.0, Insul=current\n"
     ]
    },
    {
     "name": "stderr",
     "output_type": "stream",
     "text": [
      "INFO:pypsa.network.power_flow:Performing non-linear load-flow on AC sub-network <pypsa.networks.SubNetwork object at 0x301f679b0> for snapshots Index(['00:00:00', '00:01:00', '00:02:00', '00:03:00', '00:04:00', '00:05:00',\n",
      "       '00:06:00', '00:07:00', '00:08:00', '00:09:00',\n",
      "       ...\n",
      "       '23:50:00', '23:51:00', '23:52:00', '23:53:00', '23:54:00', '23:55:00',\n",
      "       '23:56:00', '23:57:00', '23:58:00', '23:59:00'],\n",
      "      dtype='object', name='snapshot', length=1440)\n"
     ]
    },
    {
     "name": "stdout",
     "output_type": "stream",
     "text": [
      "Running: HP=0.5, EV=0.0, PV=0.25, Insul=current\n"
     ]
    },
    {
     "name": "stderr",
     "output_type": "stream",
     "text": [
      "INFO:pypsa.network.power_flow:Performing non-linear load-flow on AC sub-network <pypsa.networks.SubNetwork object at 0x16618bbf0> for snapshots Index(['00:00:00', '00:01:00', '00:02:00', '00:03:00', '00:04:00', '00:05:00',\n",
      "       '00:06:00', '00:07:00', '00:08:00', '00:09:00',\n",
      "       ...\n",
      "       '23:50:00', '23:51:00', '23:52:00', '23:53:00', '23:54:00', '23:55:00',\n",
      "       '23:56:00', '23:57:00', '23:58:00', '23:59:00'],\n",
      "      dtype='object', name='snapshot', length=1440)\n"
     ]
    },
    {
     "name": "stdout",
     "output_type": "stream",
     "text": [
      "Running: HP=0.5, EV=0.0, PV=0.5, Insul=current\n"
     ]
    },
    {
     "name": "stderr",
     "output_type": "stream",
     "text": [
      "INFO:pypsa.network.power_flow:Performing non-linear load-flow on AC sub-network <pypsa.networks.SubNetwork object at 0x3022fa330> for snapshots Index(['00:00:00', '00:01:00', '00:02:00', '00:03:00', '00:04:00', '00:05:00',\n",
      "       '00:06:00', '00:07:00', '00:08:00', '00:09:00',\n",
      "       ...\n",
      "       '23:50:00', '23:51:00', '23:52:00', '23:53:00', '23:54:00', '23:55:00',\n",
      "       '23:56:00', '23:57:00', '23:58:00', '23:59:00'],\n",
      "      dtype='object', name='snapshot', length=1440)\n"
     ]
    },
    {
     "name": "stdout",
     "output_type": "stream",
     "text": [
      "Running: HP=0.5, EV=0.0, PV=0.75, Insul=current\n"
     ]
    },
    {
     "name": "stderr",
     "output_type": "stream",
     "text": [
      "INFO:pypsa.network.power_flow:Performing non-linear load-flow on AC sub-network <pypsa.networks.SubNetwork object at 0x1660cfec0> for snapshots Index(['00:00:00', '00:01:00', '00:02:00', '00:03:00', '00:04:00', '00:05:00',\n",
      "       '00:06:00', '00:07:00', '00:08:00', '00:09:00',\n",
      "       ...\n",
      "       '23:50:00', '23:51:00', '23:52:00', '23:53:00', '23:54:00', '23:55:00',\n",
      "       '23:56:00', '23:57:00', '23:58:00', '23:59:00'],\n",
      "      dtype='object', name='snapshot', length=1440)\n"
     ]
    },
    {
     "name": "stdout",
     "output_type": "stream",
     "text": [
      "Running: HP=0.5, EV=0.0, PV=1.0, Insul=current\n"
     ]
    },
    {
     "name": "stderr",
     "output_type": "stream",
     "text": [
      "INFO:pypsa.network.power_flow:Performing non-linear load-flow on AC sub-network <pypsa.networks.SubNetwork object at 0x30437be00> for snapshots Index(['00:00:00', '00:01:00', '00:02:00', '00:03:00', '00:04:00', '00:05:00',\n",
      "       '00:06:00', '00:07:00', '00:08:00', '00:09:00',\n",
      "       ...\n",
      "       '23:50:00', '23:51:00', '23:52:00', '23:53:00', '23:54:00', '23:55:00',\n",
      "       '23:56:00', '23:57:00', '23:58:00', '23:59:00'],\n",
      "      dtype='object', name='snapshot', length=1440)\n"
     ]
    },
    {
     "name": "stdout",
     "output_type": "stream",
     "text": [
      "Running: HP=0.5, EV=0.25, PV=0.0, Insul=current\n"
     ]
    },
    {
     "name": "stderr",
     "output_type": "stream",
     "text": [
      "INFO:pypsa.network.power_flow:Performing non-linear load-flow on AC sub-network <pypsa.networks.SubNetwork object at 0x166657bf0> for snapshots Index(['00:00:00', '00:01:00', '00:02:00', '00:03:00', '00:04:00', '00:05:00',\n",
      "       '00:06:00', '00:07:00', '00:08:00', '00:09:00',\n",
      "       ...\n",
      "       '23:50:00', '23:51:00', '23:52:00', '23:53:00', '23:54:00', '23:55:00',\n",
      "       '23:56:00', '23:57:00', '23:58:00', '23:59:00'],\n",
      "      dtype='object', name='snapshot', length=1440)\n"
     ]
    },
    {
     "name": "stdout",
     "output_type": "stream",
     "text": [
      "Running: HP=0.5, EV=0.25, PV=0.25, Insul=current\n"
     ]
    },
    {
     "name": "stderr",
     "output_type": "stream",
     "text": [
      "INFO:pypsa.network.power_flow:Performing non-linear load-flow on AC sub-network <pypsa.networks.SubNetwork object at 0x3008441a0> for snapshots Index(['00:00:00', '00:01:00', '00:02:00', '00:03:00', '00:04:00', '00:05:00',\n",
      "       '00:06:00', '00:07:00', '00:08:00', '00:09:00',\n",
      "       ...\n",
      "       '23:50:00', '23:51:00', '23:52:00', '23:53:00', '23:54:00', '23:55:00',\n",
      "       '23:56:00', '23:57:00', '23:58:00', '23:59:00'],\n",
      "      dtype='object', name='snapshot', length=1440)\n"
     ]
    },
    {
     "name": "stdout",
     "output_type": "stream",
     "text": [
      "Running: HP=0.5, EV=0.25, PV=0.5, Insul=current\n"
     ]
    },
    {
     "name": "stderr",
     "output_type": "stream",
     "text": [
      "INFO:pypsa.network.power_flow:Performing non-linear load-flow on AC sub-network <pypsa.networks.SubNetwork object at 0x30221b320> for snapshots Index(['00:00:00', '00:01:00', '00:02:00', '00:03:00', '00:04:00', '00:05:00',\n",
      "       '00:06:00', '00:07:00', '00:08:00', '00:09:00',\n",
      "       ...\n",
      "       '23:50:00', '23:51:00', '23:52:00', '23:53:00', '23:54:00', '23:55:00',\n",
      "       '23:56:00', '23:57:00', '23:58:00', '23:59:00'],\n",
      "      dtype='object', name='snapshot', length=1440)\n"
     ]
    },
    {
     "name": "stdout",
     "output_type": "stream",
     "text": [
      "Running: HP=0.5, EV=0.25, PV=0.75, Insul=current\n"
     ]
    },
    {
     "name": "stderr",
     "output_type": "stream",
     "text": [
      "INFO:pypsa.network.power_flow:Performing non-linear load-flow on AC sub-network <pypsa.networks.SubNetwork object at 0x30237e810> for snapshots Index(['00:00:00', '00:01:00', '00:02:00', '00:03:00', '00:04:00', '00:05:00',\n",
      "       '00:06:00', '00:07:00', '00:08:00', '00:09:00',\n",
      "       ...\n",
      "       '23:50:00', '23:51:00', '23:52:00', '23:53:00', '23:54:00', '23:55:00',\n",
      "       '23:56:00', '23:57:00', '23:58:00', '23:59:00'],\n",
      "      dtype='object', name='snapshot', length=1440)\n"
     ]
    },
    {
     "name": "stdout",
     "output_type": "stream",
     "text": [
      "Running: HP=0.5, EV=0.25, PV=1.0, Insul=current\n"
     ]
    },
    {
     "name": "stderr",
     "output_type": "stream",
     "text": [
      "INFO:pypsa.network.power_flow:Performing non-linear load-flow on AC sub-network <pypsa.networks.SubNetwork object at 0x167372ab0> for snapshots Index(['00:00:00', '00:01:00', '00:02:00', '00:03:00', '00:04:00', '00:05:00',\n",
      "       '00:06:00', '00:07:00', '00:08:00', '00:09:00',\n",
      "       ...\n",
      "       '23:50:00', '23:51:00', '23:52:00', '23:53:00', '23:54:00', '23:55:00',\n",
      "       '23:56:00', '23:57:00', '23:58:00', '23:59:00'],\n",
      "      dtype='object', name='snapshot', length=1440)\n"
     ]
    },
    {
     "name": "stdout",
     "output_type": "stream",
     "text": [
      "Running: HP=0.5, EV=0.5, PV=0.0, Insul=current\n"
     ]
    },
    {
     "name": "stderr",
     "output_type": "stream",
     "text": [
      "INFO:pypsa.network.power_flow:Performing non-linear load-flow on AC sub-network <pypsa.networks.SubNetwork object at 0x302394830> for snapshots Index(['00:00:00', '00:01:00', '00:02:00', '00:03:00', '00:04:00', '00:05:00',\n",
      "       '00:06:00', '00:07:00', '00:08:00', '00:09:00',\n",
      "       ...\n",
      "       '23:50:00', '23:51:00', '23:52:00', '23:53:00', '23:54:00', '23:55:00',\n",
      "       '23:56:00', '23:57:00', '23:58:00', '23:59:00'],\n",
      "      dtype='object', name='snapshot', length=1440)\n"
     ]
    },
    {
     "name": "stdout",
     "output_type": "stream",
     "text": [
      "Running: HP=0.5, EV=0.5, PV=0.25, Insul=current\n"
     ]
    },
    {
     "name": "stderr",
     "output_type": "stream",
     "text": [
      "INFO:pypsa.network.power_flow:Performing non-linear load-flow on AC sub-network <pypsa.networks.SubNetwork object at 0x300946660> for snapshots Index(['00:00:00', '00:01:00', '00:02:00', '00:03:00', '00:04:00', '00:05:00',\n",
      "       '00:06:00', '00:07:00', '00:08:00', '00:09:00',\n",
      "       ...\n",
      "       '23:50:00', '23:51:00', '23:52:00', '23:53:00', '23:54:00', '23:55:00',\n",
      "       '23:56:00', '23:57:00', '23:58:00', '23:59:00'],\n",
      "      dtype='object', name='snapshot', length=1440)\n"
     ]
    },
    {
     "name": "stdout",
     "output_type": "stream",
     "text": [
      "Running: HP=0.5, EV=0.5, PV=0.5, Insul=current\n"
     ]
    },
    {
     "name": "stderr",
     "output_type": "stream",
     "text": [
      "INFO:pypsa.network.power_flow:Performing non-linear load-flow on AC sub-network <pypsa.networks.SubNetwork object at 0x304146900> for snapshots Index(['00:00:00', '00:01:00', '00:02:00', '00:03:00', '00:04:00', '00:05:00',\n",
      "       '00:06:00', '00:07:00', '00:08:00', '00:09:00',\n",
      "       ...\n",
      "       '23:50:00', '23:51:00', '23:52:00', '23:53:00', '23:54:00', '23:55:00',\n",
      "       '23:56:00', '23:57:00', '23:58:00', '23:59:00'],\n",
      "      dtype='object', name='snapshot', length=1440)\n"
     ]
    },
    {
     "name": "stdout",
     "output_type": "stream",
     "text": [
      "Running: HP=0.5, EV=0.5, PV=0.75, Insul=current\n"
     ]
    },
    {
     "name": "stderr",
     "output_type": "stream",
     "text": [
      "INFO:pypsa.network.power_flow:Performing non-linear load-flow on AC sub-network <pypsa.networks.SubNetwork object at 0x304076e40> for snapshots Index(['00:00:00', '00:01:00', '00:02:00', '00:03:00', '00:04:00', '00:05:00',\n",
      "       '00:06:00', '00:07:00', '00:08:00', '00:09:00',\n",
      "       ...\n",
      "       '23:50:00', '23:51:00', '23:52:00', '23:53:00', '23:54:00', '23:55:00',\n",
      "       '23:56:00', '23:57:00', '23:58:00', '23:59:00'],\n",
      "      dtype='object', name='snapshot', length=1440)\n"
     ]
    },
    {
     "name": "stdout",
     "output_type": "stream",
     "text": [
      "Running: HP=0.5, EV=0.5, PV=1.0, Insul=current\n"
     ]
    },
    {
     "name": "stderr",
     "output_type": "stream",
     "text": [
      "INFO:pypsa.network.power_flow:Performing non-linear load-flow on AC sub-network <pypsa.networks.SubNetwork object at 0x3032a2000> for snapshots Index(['00:00:00', '00:01:00', '00:02:00', '00:03:00', '00:04:00', '00:05:00',\n",
      "       '00:06:00', '00:07:00', '00:08:00', '00:09:00',\n",
      "       ...\n",
      "       '23:50:00', '23:51:00', '23:52:00', '23:53:00', '23:54:00', '23:55:00',\n",
      "       '23:56:00', '23:57:00', '23:58:00', '23:59:00'],\n",
      "      dtype='object', name='snapshot', length=1440)\n"
     ]
    },
    {
     "name": "stdout",
     "output_type": "stream",
     "text": [
      "Running: HP=0.75, EV=0.0, PV=0.0, Insul=current\n"
     ]
    },
    {
     "name": "stderr",
     "output_type": "stream",
     "text": [
      "INFO:pypsa.network.power_flow:Performing non-linear load-flow on AC sub-network <pypsa.networks.SubNetwork object at 0x16519f560> for snapshots Index(['00:00:00', '00:01:00', '00:02:00', '00:03:00', '00:04:00', '00:05:00',\n",
      "       '00:06:00', '00:07:00', '00:08:00', '00:09:00',\n",
      "       ...\n",
      "       '23:50:00', '23:51:00', '23:52:00', '23:53:00', '23:54:00', '23:55:00',\n",
      "       '23:56:00', '23:57:00', '23:58:00', '23:59:00'],\n",
      "      dtype='object', name='snapshot', length=1440)\n"
     ]
    },
    {
     "name": "stdout",
     "output_type": "stream",
     "text": [
      "Running: HP=0.75, EV=0.0, PV=0.25, Insul=current\n"
     ]
    },
    {
     "name": "stderr",
     "output_type": "stream",
     "text": [
      "INFO:pypsa.network.power_flow:Performing non-linear load-flow on AC sub-network <pypsa.networks.SubNetwork object at 0x1672446e0> for snapshots Index(['00:00:00', '00:01:00', '00:02:00', '00:03:00', '00:04:00', '00:05:00',\n",
      "       '00:06:00', '00:07:00', '00:08:00', '00:09:00',\n",
      "       ...\n",
      "       '23:50:00', '23:51:00', '23:52:00', '23:53:00', '23:54:00', '23:55:00',\n",
      "       '23:56:00', '23:57:00', '23:58:00', '23:59:00'],\n",
      "      dtype='object', name='snapshot', length=1440)\n"
     ]
    },
    {
     "name": "stdout",
     "output_type": "stream",
     "text": [
      "Running: HP=0.75, EV=0.0, PV=0.5, Insul=current\n"
     ]
    },
    {
     "name": "stderr",
     "output_type": "stream",
     "text": [
      "INFO:pypsa.network.power_flow:Performing non-linear load-flow on AC sub-network <pypsa.networks.SubNetwork object at 0x3033025a0> for snapshots Index(['00:00:00', '00:01:00', '00:02:00', '00:03:00', '00:04:00', '00:05:00',\n",
      "       '00:06:00', '00:07:00', '00:08:00', '00:09:00',\n",
      "       ...\n",
      "       '23:50:00', '23:51:00', '23:52:00', '23:53:00', '23:54:00', '23:55:00',\n",
      "       '23:56:00', '23:57:00', '23:58:00', '23:59:00'],\n",
      "      dtype='object', name='snapshot', length=1440)\n"
     ]
    },
    {
     "name": "stdout",
     "output_type": "stream",
     "text": [
      "Running: HP=0.75, EV=0.0, PV=0.75, Insul=current\n"
     ]
    },
    {
     "name": "stderr",
     "output_type": "stream",
     "text": [
      "INFO:pypsa.network.power_flow:Performing non-linear load-flow on AC sub-network <pypsa.networks.SubNetwork object at 0x301e9da90> for snapshots Index(['00:00:00', '00:01:00', '00:02:00', '00:03:00', '00:04:00', '00:05:00',\n",
      "       '00:06:00', '00:07:00', '00:08:00', '00:09:00',\n",
      "       ...\n",
      "       '23:50:00', '23:51:00', '23:52:00', '23:53:00', '23:54:00', '23:55:00',\n",
      "       '23:56:00', '23:57:00', '23:58:00', '23:59:00'],\n",
      "      dtype='object', name='snapshot', length=1440)\n"
     ]
    },
    {
     "name": "stdout",
     "output_type": "stream",
     "text": [
      "Running: HP=0.75, EV=0.0, PV=1.0, Insul=current\n"
     ]
    },
    {
     "name": "stderr",
     "output_type": "stream",
     "text": [
      "INFO:pypsa.network.power_flow:Performing non-linear load-flow on AC sub-network <pypsa.networks.SubNetwork object at 0x1661e5a00> for snapshots Index(['00:00:00', '00:01:00', '00:02:00', '00:03:00', '00:04:00', '00:05:00',\n",
      "       '00:06:00', '00:07:00', '00:08:00', '00:09:00',\n",
      "       ...\n",
      "       '23:50:00', '23:51:00', '23:52:00', '23:53:00', '23:54:00', '23:55:00',\n",
      "       '23:56:00', '23:57:00', '23:58:00', '23:59:00'],\n",
      "      dtype='object', name='snapshot', length=1440)\n"
     ]
    },
    {
     "name": "stdout",
     "output_type": "stream",
     "text": [
      "Running: HP=0.75, EV=0.25, PV=0.0, Insul=current\n"
     ]
    },
    {
     "name": "stderr",
     "output_type": "stream",
     "text": [
      "INFO:pypsa.network.power_flow:Performing non-linear load-flow on AC sub-network <pypsa.networks.SubNetwork object at 0x300804dd0> for snapshots Index(['00:00:00', '00:01:00', '00:02:00', '00:03:00', '00:04:00', '00:05:00',\n",
      "       '00:06:00', '00:07:00', '00:08:00', '00:09:00',\n",
      "       ...\n",
      "       '23:50:00', '23:51:00', '23:52:00', '23:53:00', '23:54:00', '23:55:00',\n",
      "       '23:56:00', '23:57:00', '23:58:00', '23:59:00'],\n",
      "      dtype='object', name='snapshot', length=1440)\n"
     ]
    },
    {
     "name": "stdout",
     "output_type": "stream",
     "text": [
      "Running: HP=0.75, EV=0.25, PV=0.25, Insul=current\n"
     ]
    },
    {
     "name": "stderr",
     "output_type": "stream",
     "text": [
      "INFO:pypsa.network.power_flow:Performing non-linear load-flow on AC sub-network <pypsa.networks.SubNetwork object at 0x30227c500> for snapshots Index(['00:00:00', '00:01:00', '00:02:00', '00:03:00', '00:04:00', '00:05:00',\n",
      "       '00:06:00', '00:07:00', '00:08:00', '00:09:00',\n",
      "       ...\n",
      "       '23:50:00', '23:51:00', '23:52:00', '23:53:00', '23:54:00', '23:55:00',\n",
      "       '23:56:00', '23:57:00', '23:58:00', '23:59:00'],\n",
      "      dtype='object', name='snapshot', length=1440)\n"
     ]
    },
    {
     "name": "stdout",
     "output_type": "stream",
     "text": [
      "Running: HP=0.75, EV=0.25, PV=0.5, Insul=current\n"
     ]
    },
    {
     "name": "stderr",
     "output_type": "stream",
     "text": [
      "INFO:pypsa.network.power_flow:Performing non-linear load-flow on AC sub-network <pypsa.networks.SubNetwork object at 0x3032346e0> for snapshots Index(['00:00:00', '00:01:00', '00:02:00', '00:03:00', '00:04:00', '00:05:00',\n",
      "       '00:06:00', '00:07:00', '00:08:00', '00:09:00',\n",
      "       ...\n",
      "       '23:50:00', '23:51:00', '23:52:00', '23:53:00', '23:54:00', '23:55:00',\n",
      "       '23:56:00', '23:57:00', '23:58:00', '23:59:00'],\n",
      "      dtype='object', name='snapshot', length=1440)\n"
     ]
    },
    {
     "name": "stdout",
     "output_type": "stream",
     "text": [
      "Running: HP=0.75, EV=0.25, PV=0.75, Insul=current\n"
     ]
    },
    {
     "name": "stderr",
     "output_type": "stream",
     "text": [
      "INFO:pypsa.network.power_flow:Performing non-linear load-flow on AC sub-network <pypsa.networks.SubNetwork object at 0x301e76660> for snapshots Index(['00:00:00', '00:01:00', '00:02:00', '00:03:00', '00:04:00', '00:05:00',\n",
      "       '00:06:00', '00:07:00', '00:08:00', '00:09:00',\n",
      "       ...\n",
      "       '23:50:00', '23:51:00', '23:52:00', '23:53:00', '23:54:00', '23:55:00',\n",
      "       '23:56:00', '23:57:00', '23:58:00', '23:59:00'],\n",
      "      dtype='object', name='snapshot', length=1440)\n"
     ]
    },
    {
     "name": "stdout",
     "output_type": "stream",
     "text": [
      "Running: HP=0.75, EV=0.25, PV=1.0, Insul=current\n"
     ]
    },
    {
     "name": "stderr",
     "output_type": "stream",
     "text": [
      "INFO:pypsa.network.power_flow:Performing non-linear load-flow on AC sub-network <pypsa.networks.SubNetwork object at 0x3032a24e0> for snapshots Index(['00:00:00', '00:01:00', '00:02:00', '00:03:00', '00:04:00', '00:05:00',\n",
      "       '00:06:00', '00:07:00', '00:08:00', '00:09:00',\n",
      "       ...\n",
      "       '23:50:00', '23:51:00', '23:52:00', '23:53:00', '23:54:00', '23:55:00',\n",
      "       '23:56:00', '23:57:00', '23:58:00', '23:59:00'],\n",
      "      dtype='object', name='snapshot', length=1440)\n"
     ]
    },
    {
     "name": "stdout",
     "output_type": "stream",
     "text": [
      "Running: HP=0.75, EV=0.5, PV=0.0, Insul=current\n"
     ]
    },
    {
     "name": "stderr",
     "output_type": "stream",
     "text": [
      "INFO:pypsa.network.power_flow:Performing non-linear load-flow on AC sub-network <pypsa.networks.SubNetwork object at 0x303234770> for snapshots Index(['00:00:00', '00:01:00', '00:02:00', '00:03:00', '00:04:00', '00:05:00',\n",
      "       '00:06:00', '00:07:00', '00:08:00', '00:09:00',\n",
      "       ...\n",
      "       '23:50:00', '23:51:00', '23:52:00', '23:53:00', '23:54:00', '23:55:00',\n",
      "       '23:56:00', '23:57:00', '23:58:00', '23:59:00'],\n",
      "      dtype='object', name='snapshot', length=1440)\n"
     ]
    },
    {
     "name": "stdout",
     "output_type": "stream",
     "text": [
      "Running: HP=0.75, EV=0.5, PV=0.25, Insul=current\n"
     ]
    },
    {
     "name": "stderr",
     "output_type": "stream",
     "text": [
      "INFO:pypsa.network.power_flow:Performing non-linear load-flow on AC sub-network <pypsa.networks.SubNetwork object at 0x304efb170> for snapshots Index(['00:00:00', '00:01:00', '00:02:00', '00:03:00', '00:04:00', '00:05:00',\n",
      "       '00:06:00', '00:07:00', '00:08:00', '00:09:00',\n",
      "       ...\n",
      "       '23:50:00', '23:51:00', '23:52:00', '23:53:00', '23:54:00', '23:55:00',\n",
      "       '23:56:00', '23:57:00', '23:58:00', '23:59:00'],\n",
      "      dtype='object', name='snapshot', length=1440)\n"
     ]
    },
    {
     "name": "stdout",
     "output_type": "stream",
     "text": [
      "Running: HP=0.75, EV=0.5, PV=0.5, Insul=current\n"
     ]
    },
    {
     "name": "stderr",
     "output_type": "stream",
     "text": [
      "INFO:pypsa.network.power_flow:Performing non-linear load-flow on AC sub-network <pypsa.networks.SubNetwork object at 0x304379e80> for snapshots Index(['00:00:00', '00:01:00', '00:02:00', '00:03:00', '00:04:00', '00:05:00',\n",
      "       '00:06:00', '00:07:00', '00:08:00', '00:09:00',\n",
      "       ...\n",
      "       '23:50:00', '23:51:00', '23:52:00', '23:53:00', '23:54:00', '23:55:00',\n",
      "       '23:56:00', '23:57:00', '23:58:00', '23:59:00'],\n",
      "      dtype='object', name='snapshot', length=1440)\n"
     ]
    },
    {
     "name": "stdout",
     "output_type": "stream",
     "text": [
      "Running: HP=0.75, EV=0.5, PV=0.75, Insul=current\n"
     ]
    },
    {
     "name": "stderr",
     "output_type": "stream",
     "text": [
      "INFO:pypsa.network.power_flow:Performing non-linear load-flow on AC sub-network <pypsa.networks.SubNetwork object at 0x30327d2b0> for snapshots Index(['00:00:00', '00:01:00', '00:02:00', '00:03:00', '00:04:00', '00:05:00',\n",
      "       '00:06:00', '00:07:00', '00:08:00', '00:09:00',\n",
      "       ...\n",
      "       '23:50:00', '23:51:00', '23:52:00', '23:53:00', '23:54:00', '23:55:00',\n",
      "       '23:56:00', '23:57:00', '23:58:00', '23:59:00'],\n",
      "      dtype='object', name='snapshot', length=1440)\n"
     ]
    },
    {
     "name": "stdout",
     "output_type": "stream",
     "text": [
      "Running: HP=0.75, EV=0.5, PV=1.0, Insul=current\n"
     ]
    },
    {
     "name": "stderr",
     "output_type": "stream",
     "text": [
      "INFO:pypsa.network.power_flow:Performing non-linear load-flow on AC sub-network <pypsa.networks.SubNetwork object at 0x165a29a60> for snapshots Index(['00:00:00', '00:01:00', '00:02:00', '00:03:00', '00:04:00', '00:05:00',\n",
      "       '00:06:00', '00:07:00', '00:08:00', '00:09:00',\n",
      "       ...\n",
      "       '23:50:00', '23:51:00', '23:52:00', '23:53:00', '23:54:00', '23:55:00',\n",
      "       '23:56:00', '23:57:00', '23:58:00', '23:59:00'],\n",
      "      dtype='object', name='snapshot', length=1440)\n"
     ]
    },
    {
     "name": "stdout",
     "output_type": "stream",
     "text": [
      "Running: HP=1.0, EV=0.0, PV=0.0, Insul=current\n"
     ]
    },
    {
     "name": "stderr",
     "output_type": "stream",
     "text": [
      "INFO:pypsa.network.power_flow:Performing non-linear load-flow on AC sub-network <pypsa.networks.SubNetwork object at 0x3043516d0> for snapshots Index(['00:00:00', '00:01:00', '00:02:00', '00:03:00', '00:04:00', '00:05:00',\n",
      "       '00:06:00', '00:07:00', '00:08:00', '00:09:00',\n",
      "       ...\n",
      "       '23:50:00', '23:51:00', '23:52:00', '23:53:00', '23:54:00', '23:55:00',\n",
      "       '23:56:00', '23:57:00', '23:58:00', '23:59:00'],\n",
      "      dtype='object', name='snapshot', length=1440)\n"
     ]
    },
    {
     "name": "stdout",
     "output_type": "stream",
     "text": [
      "Running: HP=1.0, EV=0.0, PV=0.25, Insul=current\n"
     ]
    },
    {
     "name": "stderr",
     "output_type": "stream",
     "text": [
      "INFO:pypsa.network.power_flow:Performing non-linear load-flow on AC sub-network <pypsa.networks.SubNetwork object at 0x16519cfe0> for snapshots Index(['00:00:00', '00:01:00', '00:02:00', '00:03:00', '00:04:00', '00:05:00',\n",
      "       '00:06:00', '00:07:00', '00:08:00', '00:09:00',\n",
      "       ...\n",
      "       '23:50:00', '23:51:00', '23:52:00', '23:53:00', '23:54:00', '23:55:00',\n",
      "       '23:56:00', '23:57:00', '23:58:00', '23:59:00'],\n",
      "      dtype='object', name='snapshot', length=1440)\n"
     ]
    },
    {
     "name": "stdout",
     "output_type": "stream",
     "text": [
      "Running: HP=1.0, EV=0.0, PV=0.5, Insul=current\n"
     ]
    },
    {
     "name": "stderr",
     "output_type": "stream",
     "text": [
      "INFO:pypsa.network.power_flow:Performing non-linear load-flow on AC sub-network <pypsa.networks.SubNetwork object at 0x1666552e0> for snapshots Index(['00:00:00', '00:01:00', '00:02:00', '00:03:00', '00:04:00', '00:05:00',\n",
      "       '00:06:00', '00:07:00', '00:08:00', '00:09:00',\n",
      "       ...\n",
      "       '23:50:00', '23:51:00', '23:52:00', '23:53:00', '23:54:00', '23:55:00',\n",
      "       '23:56:00', '23:57:00', '23:58:00', '23:59:00'],\n",
      "      dtype='object', name='snapshot', length=1440)\n"
     ]
    },
    {
     "name": "stdout",
     "output_type": "stream",
     "text": [
      "Running: HP=1.0, EV=0.0, PV=0.75, Insul=current\n"
     ]
    },
    {
     "name": "stderr",
     "output_type": "stream",
     "text": [
      "INFO:pypsa.network.power_flow:Performing non-linear load-flow on AC sub-network <pypsa.networks.SubNetwork object at 0x301e9d160> for snapshots Index(['00:00:00', '00:01:00', '00:02:00', '00:03:00', '00:04:00', '00:05:00',\n",
      "       '00:06:00', '00:07:00', '00:08:00', '00:09:00',\n",
      "       ...\n",
      "       '23:50:00', '23:51:00', '23:52:00', '23:53:00', '23:54:00', '23:55:00',\n",
      "       '23:56:00', '23:57:00', '23:58:00', '23:59:00'],\n",
      "      dtype='object', name='snapshot', length=1440)\n"
     ]
    },
    {
     "name": "stdout",
     "output_type": "stream",
     "text": [
      "Running: HP=1.0, EV=0.0, PV=1.0, Insul=current\n"
     ]
    },
    {
     "name": "stderr",
     "output_type": "stream",
     "text": [
      "INFO:pypsa.network.power_flow:Performing non-linear load-flow on AC sub-network <pypsa.networks.SubNetwork object at 0x1672446e0> for snapshots Index(['00:00:00', '00:01:00', '00:02:00', '00:03:00', '00:04:00', '00:05:00',\n",
      "       '00:06:00', '00:07:00', '00:08:00', '00:09:00',\n",
      "       ...\n",
      "       '23:50:00', '23:51:00', '23:52:00', '23:53:00', '23:54:00', '23:55:00',\n",
      "       '23:56:00', '23:57:00', '23:58:00', '23:59:00'],\n",
      "      dtype='object', name='snapshot', length=1440)\n"
     ]
    },
    {
     "name": "stdout",
     "output_type": "stream",
     "text": [
      "Running: HP=1.0, EV=0.25, PV=0.0, Insul=current\n"
     ]
    },
    {
     "name": "stderr",
     "output_type": "stream",
     "text": [
      "INFO:pypsa.network.power_flow:Performing non-linear load-flow on AC sub-network <pypsa.networks.SubNetwork object at 0x1651536e0> for snapshots Index(['00:00:00', '00:01:00', '00:02:00', '00:03:00', '00:04:00', '00:05:00',\n",
      "       '00:06:00', '00:07:00', '00:08:00', '00:09:00',\n",
      "       ...\n",
      "       '23:50:00', '23:51:00', '23:52:00', '23:53:00', '23:54:00', '23:55:00',\n",
      "       '23:56:00', '23:57:00', '23:58:00', '23:59:00'],\n",
      "      dtype='object', name='snapshot', length=1440)\n"
     ]
    },
    {
     "name": "stdout",
     "output_type": "stream",
     "text": [
      "Running: HP=1.0, EV=0.25, PV=0.25, Insul=current\n"
     ]
    },
    {
     "name": "stderr",
     "output_type": "stream",
     "text": [
      "INFO:pypsa.network.power_flow:Performing non-linear load-flow on AC sub-network <pypsa.networks.SubNetwork object at 0x165cbbcb0> for snapshots Index(['00:00:00', '00:01:00', '00:02:00', '00:03:00', '00:04:00', '00:05:00',\n",
      "       '00:06:00', '00:07:00', '00:08:00', '00:09:00',\n",
      "       ...\n",
      "       '23:50:00', '23:51:00', '23:52:00', '23:53:00', '23:54:00', '23:55:00',\n",
      "       '23:56:00', '23:57:00', '23:58:00', '23:59:00'],\n",
      "      dtype='object', name='snapshot', length=1440)\n"
     ]
    },
    {
     "name": "stdout",
     "output_type": "stream",
     "text": [
      "Running: HP=1.0, EV=0.25, PV=0.5, Insul=current\n"
     ]
    },
    {
     "name": "stderr",
     "output_type": "stream",
     "text": [
      "INFO:pypsa.network.power_flow:Performing non-linear load-flow on AC sub-network <pypsa.networks.SubNetwork object at 0x301186f00> for snapshots Index(['00:00:00', '00:01:00', '00:02:00', '00:03:00', '00:04:00', '00:05:00',\n",
      "       '00:06:00', '00:07:00', '00:08:00', '00:09:00',\n",
      "       ...\n",
      "       '23:50:00', '23:51:00', '23:52:00', '23:53:00', '23:54:00', '23:55:00',\n",
      "       '23:56:00', '23:57:00', '23:58:00', '23:59:00'],\n",
      "      dtype='object', name='snapshot', length=1440)\n"
     ]
    },
    {
     "name": "stdout",
     "output_type": "stream",
     "text": [
      "Running: HP=1.0, EV=0.25, PV=0.75, Insul=current\n"
     ]
    },
    {
     "name": "stderr",
     "output_type": "stream",
     "text": [
      "INFO:pypsa.network.power_flow:Performing non-linear load-flow on AC sub-network <pypsa.networks.SubNetwork object at 0x1663dd160> for snapshots Index(['00:00:00', '00:01:00', '00:02:00', '00:03:00', '00:04:00', '00:05:00',\n",
      "       '00:06:00', '00:07:00', '00:08:00', '00:09:00',\n",
      "       ...\n",
      "       '23:50:00', '23:51:00', '23:52:00', '23:53:00', '23:54:00', '23:55:00',\n",
      "       '23:56:00', '23:57:00', '23:58:00', '23:59:00'],\n",
      "      dtype='object', name='snapshot', length=1440)\n"
     ]
    },
    {
     "name": "stdout",
     "output_type": "stream",
     "text": [
      "Running: HP=1.0, EV=0.25, PV=1.0, Insul=current\n"
     ]
    },
    {
     "name": "stderr",
     "output_type": "stream",
     "text": [
      "INFO:pypsa.network.power_flow:Performing non-linear load-flow on AC sub-network <pypsa.networks.SubNetwork object at 0x302252f00> for snapshots Index(['00:00:00', '00:01:00', '00:02:00', '00:03:00', '00:04:00', '00:05:00',\n",
      "       '00:06:00', '00:07:00', '00:08:00', '00:09:00',\n",
      "       ...\n",
      "       '23:50:00', '23:51:00', '23:52:00', '23:53:00', '23:54:00', '23:55:00',\n",
      "       '23:56:00', '23:57:00', '23:58:00', '23:59:00'],\n",
      "      dtype='object', name='snapshot', length=1440)\n"
     ]
    },
    {
     "name": "stdout",
     "output_type": "stream",
     "text": [
      "Running: HP=1.0, EV=0.5, PV=0.0, Insul=current\n"
     ]
    },
    {
     "name": "stderr",
     "output_type": "stream",
     "text": [
      "INFO:pypsa.network.power_flow:Performing non-linear load-flow on AC sub-network <pypsa.networks.SubNetwork object at 0x301ee6270> for snapshots Index(['00:00:00', '00:01:00', '00:02:00', '00:03:00', '00:04:00', '00:05:00',\n",
      "       '00:06:00', '00:07:00', '00:08:00', '00:09:00',\n",
      "       ...\n",
      "       '23:50:00', '23:51:00', '23:52:00', '23:53:00', '23:54:00', '23:55:00',\n",
      "       '23:56:00', '23:57:00', '23:58:00', '23:59:00'],\n",
      "      dtype='object', name='snapshot', length=1440)\n"
     ]
    },
    {
     "name": "stdout",
     "output_type": "stream",
     "text": [
      "Running: HP=1.0, EV=0.5, PV=0.25, Insul=current\n"
     ]
    },
    {
     "name": "stderr",
     "output_type": "stream",
     "text": [
      "INFO:pypsa.network.power_flow:Performing non-linear load-flow on AC sub-network <pypsa.networks.SubNetwork object at 0x1652785f0> for snapshots Index(['00:00:00', '00:01:00', '00:02:00', '00:03:00', '00:04:00', '00:05:00',\n",
      "       '00:06:00', '00:07:00', '00:08:00', '00:09:00',\n",
      "       ...\n",
      "       '23:50:00', '23:51:00', '23:52:00', '23:53:00', '23:54:00', '23:55:00',\n",
      "       '23:56:00', '23:57:00', '23:58:00', '23:59:00'],\n",
      "      dtype='object', name='snapshot', length=1440)\n"
     ]
    },
    {
     "name": "stdout",
     "output_type": "stream",
     "text": [
      "Running: HP=1.0, EV=0.5, PV=0.5, Insul=current\n"
     ]
    },
    {
     "name": "stderr",
     "output_type": "stream",
     "text": [
      "INFO:pypsa.network.power_flow:Performing non-linear load-flow on AC sub-network <pypsa.networks.SubNetwork object at 0x30427bb00> for snapshots Index(['00:00:00', '00:01:00', '00:02:00', '00:03:00', '00:04:00', '00:05:00',\n",
      "       '00:06:00', '00:07:00', '00:08:00', '00:09:00',\n",
      "       ...\n",
      "       '23:50:00', '23:51:00', '23:52:00', '23:53:00', '23:54:00', '23:55:00',\n",
      "       '23:56:00', '23:57:00', '23:58:00', '23:59:00'],\n",
      "      dtype='object', name='snapshot', length=1440)\n"
     ]
    },
    {
     "name": "stdout",
     "output_type": "stream",
     "text": [
      "Running: HP=1.0, EV=0.5, PV=0.75, Insul=current\n"
     ]
    },
    {
     "name": "stderr",
     "output_type": "stream",
     "text": [
      "INFO:pypsa.network.power_flow:Performing non-linear load-flow on AC sub-network <pypsa.networks.SubNetwork object at 0x302174c80> for snapshots Index(['00:00:00', '00:01:00', '00:02:00', '00:03:00', '00:04:00', '00:05:00',\n",
      "       '00:06:00', '00:07:00', '00:08:00', '00:09:00',\n",
      "       ...\n",
      "       '23:50:00', '23:51:00', '23:52:00', '23:53:00', '23:54:00', '23:55:00',\n",
      "       '23:56:00', '23:57:00', '23:58:00', '23:59:00'],\n",
      "      dtype='object', name='snapshot', length=1440)\n"
     ]
    },
    {
     "name": "stdout",
     "output_type": "stream",
     "text": [
      "Running: HP=1.0, EV=0.5, PV=1.0, Insul=current\n"
     ]
    },
    {
     "name": "stderr",
     "output_type": "stream",
     "text": [
      "INFO:pypsa.network.power_flow:Performing non-linear load-flow on AC sub-network <pypsa.networks.SubNetwork object at 0x302174da0> for snapshots Index(['00:00:00', '00:01:00', '00:02:00', '00:03:00', '00:04:00', '00:05:00',\n",
      "       '00:06:00', '00:07:00', '00:08:00', '00:09:00',\n",
      "       ...\n",
      "       '23:50:00', '23:51:00', '23:52:00', '23:53:00', '23:54:00', '23:55:00',\n",
      "       '23:56:00', '23:57:00', '23:58:00', '23:59:00'],\n",
      "      dtype='object', name='snapshot', length=1440)\n"
     ]
    },
    {
     "name": "stdout",
     "output_type": "stream",
     "text": [
      "✅ Saved: Results/lv_grid_results_current.csv\n",
      "Running: HP=0.0, EV=0.0, PV=0.0, Insul=upgraded\n"
     ]
    },
    {
     "name": "stderr",
     "output_type": "stream",
     "text": [
      "INFO:pypsa.network.power_flow:Performing non-linear load-flow on AC sub-network <pypsa.networks.SubNetwork object at 0x165151af0> for snapshots Index(['00:00:00', '00:01:00', '00:02:00', '00:03:00', '00:04:00', '00:05:00',\n",
      "       '00:06:00', '00:07:00', '00:08:00', '00:09:00',\n",
      "       ...\n",
      "       '23:50:00', '23:51:00', '23:52:00', '23:53:00', '23:54:00', '23:55:00',\n",
      "       '23:56:00', '23:57:00', '23:58:00', '23:59:00'],\n",
      "      dtype='object', name='snapshot', length=1440)\n"
     ]
    },
    {
     "name": "stdout",
     "output_type": "stream",
     "text": [
      "Running: HP=0.0, EV=0.0, PV=0.25, Insul=upgraded\n"
     ]
    },
    {
     "name": "stderr",
     "output_type": "stream",
     "text": [
      "INFO:pypsa.network.power_flow:Performing non-linear load-flow on AC sub-network <pypsa.networks.SubNetwork object at 0x30433ddc0> for snapshots Index(['00:00:00', '00:01:00', '00:02:00', '00:03:00', '00:04:00', '00:05:00',\n",
      "       '00:06:00', '00:07:00', '00:08:00', '00:09:00',\n",
      "       ...\n",
      "       '23:50:00', '23:51:00', '23:52:00', '23:53:00', '23:54:00', '23:55:00',\n",
      "       '23:56:00', '23:57:00', '23:58:00', '23:59:00'],\n",
      "      dtype='object', name='snapshot', length=1440)\n"
     ]
    },
    {
     "name": "stdout",
     "output_type": "stream",
     "text": [
      "Running: HP=0.0, EV=0.0, PV=0.5, Insul=upgraded\n"
     ]
    },
    {
     "name": "stderr",
     "output_type": "stream",
     "text": [
      "INFO:pypsa.network.power_flow:Performing non-linear load-flow on AC sub-network <pypsa.networks.SubNetwork object at 0x302108320> for snapshots Index(['00:00:00', '00:01:00', '00:02:00', '00:03:00', '00:04:00', '00:05:00',\n",
      "       '00:06:00', '00:07:00', '00:08:00', '00:09:00',\n",
      "       ...\n",
      "       '23:50:00', '23:51:00', '23:52:00', '23:53:00', '23:54:00', '23:55:00',\n",
      "       '23:56:00', '23:57:00', '23:58:00', '23:59:00'],\n",
      "      dtype='object', name='snapshot', length=1440)\n"
     ]
    },
    {
     "name": "stdout",
     "output_type": "stream",
     "text": [
      "Running: HP=0.0, EV=0.0, PV=0.75, Insul=upgraded\n"
     ]
    },
    {
     "name": "stderr",
     "output_type": "stream",
     "text": [
      "INFO:pypsa.network.power_flow:Performing non-linear load-flow on AC sub-network <pypsa.networks.SubNetwork object at 0x301f64050> for snapshots Index(['00:00:00', '00:01:00', '00:02:00', '00:03:00', '00:04:00', '00:05:00',\n",
      "       '00:06:00', '00:07:00', '00:08:00', '00:09:00',\n",
      "       ...\n",
      "       '23:50:00', '23:51:00', '23:52:00', '23:53:00', '23:54:00', '23:55:00',\n",
      "       '23:56:00', '23:57:00', '23:58:00', '23:59:00'],\n",
      "      dtype='object', name='snapshot', length=1440)\n"
     ]
    },
    {
     "name": "stdout",
     "output_type": "stream",
     "text": [
      "Running: HP=0.0, EV=0.0, PV=1.0, Insul=upgraded\n"
     ]
    },
    {
     "name": "stderr",
     "output_type": "stream",
     "text": [
      "INFO:pypsa.network.power_flow:Performing non-linear load-flow on AC sub-network <pypsa.networks.SubNetwork object at 0x301186510> for snapshots Index(['00:00:00', '00:01:00', '00:02:00', '00:03:00', '00:04:00', '00:05:00',\n",
      "       '00:06:00', '00:07:00', '00:08:00', '00:09:00',\n",
      "       ...\n",
      "       '23:50:00', '23:51:00', '23:52:00', '23:53:00', '23:54:00', '23:55:00',\n",
      "       '23:56:00', '23:57:00', '23:58:00', '23:59:00'],\n",
      "      dtype='object', name='snapshot', length=1440)\n"
     ]
    },
    {
     "name": "stdout",
     "output_type": "stream",
     "text": [
      "Running: HP=0.0, EV=0.25, PV=0.0, Insul=upgraded\n"
     ]
    },
    {
     "name": "stderr",
     "output_type": "stream",
     "text": [
      "INFO:pypsa.network.power_flow:Performing non-linear load-flow on AC sub-network <pypsa.networks.SubNetwork object at 0x301ec6990> for snapshots Index(['00:00:00', '00:01:00', '00:02:00', '00:03:00', '00:04:00', '00:05:00',\n",
      "       '00:06:00', '00:07:00', '00:08:00', '00:09:00',\n",
      "       ...\n",
      "       '23:50:00', '23:51:00', '23:52:00', '23:53:00', '23:54:00', '23:55:00',\n",
      "       '23:56:00', '23:57:00', '23:58:00', '23:59:00'],\n",
      "      dtype='object', name='snapshot', length=1440)\n"
     ]
    },
    {
     "name": "stdout",
     "output_type": "stream",
     "text": [
      "Running: HP=0.0, EV=0.25, PV=0.25, Insul=upgraded\n"
     ]
    },
    {
     "name": "stderr",
     "output_type": "stream",
     "text": [
      "INFO:pypsa.network.power_flow:Performing non-linear load-flow on AC sub-network <pypsa.networks.SubNetwork object at 0x30333c890> for snapshots Index(['00:00:00', '00:01:00', '00:02:00', '00:03:00', '00:04:00', '00:05:00',\n",
      "       '00:06:00', '00:07:00', '00:08:00', '00:09:00',\n",
      "       ...\n",
      "       '23:50:00', '23:51:00', '23:52:00', '23:53:00', '23:54:00', '23:55:00',\n",
      "       '23:56:00', '23:57:00', '23:58:00', '23:59:00'],\n",
      "      dtype='object', name='snapshot', length=1440)\n"
     ]
    },
    {
     "name": "stdout",
     "output_type": "stream",
     "text": [
      "Running: HP=0.0, EV=0.25, PV=0.5, Insul=upgraded\n"
     ]
    },
    {
     "name": "stderr",
     "output_type": "stream",
     "text": [
      "INFO:pypsa.network.power_flow:Performing non-linear load-flow on AC sub-network <pypsa.networks.SubNetwork object at 0x30327eff0> for snapshots Index(['00:00:00', '00:01:00', '00:02:00', '00:03:00', '00:04:00', '00:05:00',\n",
      "       '00:06:00', '00:07:00', '00:08:00', '00:09:00',\n",
      "       ...\n",
      "       '23:50:00', '23:51:00', '23:52:00', '23:53:00', '23:54:00', '23:55:00',\n",
      "       '23:56:00', '23:57:00', '23:58:00', '23:59:00'],\n",
      "      dtype='object', name='snapshot', length=1440)\n"
     ]
    },
    {
     "name": "stdout",
     "output_type": "stream",
     "text": [
      "Running: HP=0.0, EV=0.25, PV=0.75, Insul=upgraded\n"
     ]
    },
    {
     "name": "stderr",
     "output_type": "stream",
     "text": [
      "INFO:pypsa.network.power_flow:Performing non-linear load-flow on AC sub-network <pypsa.networks.SubNetwork object at 0x3043530e0> for snapshots Index(['00:00:00', '00:01:00', '00:02:00', '00:03:00', '00:04:00', '00:05:00',\n",
      "       '00:06:00', '00:07:00', '00:08:00', '00:09:00',\n",
      "       ...\n",
      "       '23:50:00', '23:51:00', '23:52:00', '23:53:00', '23:54:00', '23:55:00',\n",
      "       '23:56:00', '23:57:00', '23:58:00', '23:59:00'],\n",
      "      dtype='object', name='snapshot', length=1440)\n"
     ]
    },
    {
     "name": "stdout",
     "output_type": "stream",
     "text": [
      "Running: HP=0.0, EV=0.25, PV=1.0, Insul=upgraded\n"
     ]
    },
    {
     "name": "stderr",
     "output_type": "stream",
     "text": [
      "INFO:pypsa.network.power_flow:Performing non-linear load-flow on AC sub-network <pypsa.networks.SubNetwork object at 0x3007dba10> for snapshots Index(['00:00:00', '00:01:00', '00:02:00', '00:03:00', '00:04:00', '00:05:00',\n",
      "       '00:06:00', '00:07:00', '00:08:00', '00:09:00',\n",
      "       ...\n",
      "       '23:50:00', '23:51:00', '23:52:00', '23:53:00', '23:54:00', '23:55:00',\n",
      "       '23:56:00', '23:57:00', '23:58:00', '23:59:00'],\n",
      "      dtype='object', name='snapshot', length=1440)\n"
     ]
    },
    {
     "name": "stdout",
     "output_type": "stream",
     "text": [
      "Running: HP=0.0, EV=0.5, PV=0.0, Insul=upgraded\n"
     ]
    },
    {
     "name": "stderr",
     "output_type": "stream",
     "text": [
      "INFO:pypsa.network.power_flow:Performing non-linear load-flow on AC sub-network <pypsa.networks.SubNetwork object at 0x302077800> for snapshots Index(['00:00:00', '00:01:00', '00:02:00', '00:03:00', '00:04:00', '00:05:00',\n",
      "       '00:06:00', '00:07:00', '00:08:00', '00:09:00',\n",
      "       ...\n",
      "       '23:50:00', '23:51:00', '23:52:00', '23:53:00', '23:54:00', '23:55:00',\n",
      "       '23:56:00', '23:57:00', '23:58:00', '23:59:00'],\n",
      "      dtype='object', name='snapshot', length=1440)\n"
     ]
    },
    {
     "name": "stdout",
     "output_type": "stream",
     "text": [
      "Running: HP=0.0, EV=0.5, PV=0.25, Insul=upgraded\n"
     ]
    },
    {
     "name": "stderr",
     "output_type": "stream",
     "text": [
      "INFO:pypsa.network.power_flow:Performing non-linear load-flow on AC sub-network <pypsa.networks.SubNetwork object at 0x16b050320> for snapshots Index(['00:00:00', '00:01:00', '00:02:00', '00:03:00', '00:04:00', '00:05:00',\n",
      "       '00:06:00', '00:07:00', '00:08:00', '00:09:00',\n",
      "       ...\n",
      "       '23:50:00', '23:51:00', '23:52:00', '23:53:00', '23:54:00', '23:55:00',\n",
      "       '23:56:00', '23:57:00', '23:58:00', '23:59:00'],\n",
      "      dtype='object', name='snapshot', length=1440)\n"
     ]
    },
    {
     "name": "stdout",
     "output_type": "stream",
     "text": [
      "Running: HP=0.0, EV=0.5, PV=0.5, Insul=upgraded\n"
     ]
    },
    {
     "name": "stderr",
     "output_type": "stream",
     "text": [
      "INFO:pypsa.network.power_flow:Performing non-linear load-flow on AC sub-network <pypsa.networks.SubNetwork object at 0x304146ea0> for snapshots Index(['00:00:00', '00:01:00', '00:02:00', '00:03:00', '00:04:00', '00:05:00',\n",
      "       '00:06:00', '00:07:00', '00:08:00', '00:09:00',\n",
      "       ...\n",
      "       '23:50:00', '23:51:00', '23:52:00', '23:53:00', '23:54:00', '23:55:00',\n",
      "       '23:56:00', '23:57:00', '23:58:00', '23:59:00'],\n",
      "      dtype='object', name='snapshot', length=1440)\n"
     ]
    },
    {
     "name": "stdout",
     "output_type": "stream",
     "text": [
      "Running: HP=0.0, EV=0.5, PV=0.75, Insul=upgraded\n"
     ]
    },
    {
     "name": "stderr",
     "output_type": "stream",
     "text": [
      "INFO:pypsa.network.power_flow:Performing non-linear load-flow on AC sub-network <pypsa.networks.SubNetwork object at 0x301f1e6f0> for snapshots Index(['00:00:00', '00:01:00', '00:02:00', '00:03:00', '00:04:00', '00:05:00',\n",
      "       '00:06:00', '00:07:00', '00:08:00', '00:09:00',\n",
      "       ...\n",
      "       '23:50:00', '23:51:00', '23:52:00', '23:53:00', '23:54:00', '23:55:00',\n",
      "       '23:56:00', '23:57:00', '23:58:00', '23:59:00'],\n",
      "      dtype='object', name='snapshot', length=1440)\n"
     ]
    },
    {
     "name": "stdout",
     "output_type": "stream",
     "text": [
      "Running: HP=0.0, EV=0.5, PV=1.0, Insul=upgraded\n"
     ]
    },
    {
     "name": "stderr",
     "output_type": "stream",
     "text": [
      "INFO:pypsa.network.power_flow:Performing non-linear load-flow on AC sub-network <pypsa.networks.SubNetwork object at 0x301479f70> for snapshots Index(['00:00:00', '00:01:00', '00:02:00', '00:03:00', '00:04:00', '00:05:00',\n",
      "       '00:06:00', '00:07:00', '00:08:00', '00:09:00',\n",
      "       ...\n",
      "       '23:50:00', '23:51:00', '23:52:00', '23:53:00', '23:54:00', '23:55:00',\n",
      "       '23:56:00', '23:57:00', '23:58:00', '23:59:00'],\n",
      "      dtype='object', name='snapshot', length=1440)\n"
     ]
    },
    {
     "name": "stdout",
     "output_type": "stream",
     "text": [
      "Running: HP=0.25, EV=0.0, PV=0.0, Insul=upgraded\n"
     ]
    },
    {
     "name": "stderr",
     "output_type": "stream",
     "text": [
      "INFO:pypsa.network.power_flow:Performing non-linear load-flow on AC sub-network <pypsa.networks.SubNetwork object at 0x16b1f0e00> for snapshots Index(['00:00:00', '00:01:00', '00:02:00', '00:03:00', '00:04:00', '00:05:00',\n",
      "       '00:06:00', '00:07:00', '00:08:00', '00:09:00',\n",
      "       ...\n",
      "       '23:50:00', '23:51:00', '23:52:00', '23:53:00', '23:54:00', '23:55:00',\n",
      "       '23:56:00', '23:57:00', '23:58:00', '23:59:00'],\n",
      "      dtype='object', name='snapshot', length=1440)\n"
     ]
    },
    {
     "name": "stdout",
     "output_type": "stream",
     "text": [
      "Running: HP=0.25, EV=0.0, PV=0.25, Insul=upgraded\n"
     ]
    },
    {
     "name": "stderr",
     "output_type": "stream",
     "text": [
      "INFO:pypsa.network.power_flow:Performing non-linear load-flow on AC sub-network <pypsa.networks.SubNetwork object at 0x1664fafc0> for snapshots Index(['00:00:00', '00:01:00', '00:02:00', '00:03:00', '00:04:00', '00:05:00',\n",
      "       '00:06:00', '00:07:00', '00:08:00', '00:09:00',\n",
      "       ...\n",
      "       '23:50:00', '23:51:00', '23:52:00', '23:53:00', '23:54:00', '23:55:00',\n",
      "       '23:56:00', '23:57:00', '23:58:00', '23:59:00'],\n",
      "      dtype='object', name='snapshot', length=1440)\n"
     ]
    },
    {
     "name": "stdout",
     "output_type": "stream",
     "text": [
      "Running: HP=0.25, EV=0.0, PV=0.5, Insul=upgraded\n"
     ]
    },
    {
     "name": "stderr",
     "output_type": "stream",
     "text": [
      "INFO:pypsa.network.power_flow:Performing non-linear load-flow on AC sub-network <pypsa.networks.SubNetwork object at 0x301184410> for snapshots Index(['00:00:00', '00:01:00', '00:02:00', '00:03:00', '00:04:00', '00:05:00',\n",
      "       '00:06:00', '00:07:00', '00:08:00', '00:09:00',\n",
      "       ...\n",
      "       '23:50:00', '23:51:00', '23:52:00', '23:53:00', '23:54:00', '23:55:00',\n",
      "       '23:56:00', '23:57:00', '23:58:00', '23:59:00'],\n",
      "      dtype='object', name='snapshot', length=1440)\n"
     ]
    },
    {
     "name": "stdout",
     "output_type": "stream",
     "text": [
      "Running: HP=0.25, EV=0.0, PV=0.75, Insul=upgraded\n"
     ]
    },
    {
     "name": "stderr",
     "output_type": "stream",
     "text": [
      "INFO:pypsa.network.power_flow:Performing non-linear load-flow on AC sub-network <pypsa.networks.SubNetwork object at 0x3022c1d00> for snapshots Index(['00:00:00', '00:01:00', '00:02:00', '00:03:00', '00:04:00', '00:05:00',\n",
      "       '00:06:00', '00:07:00', '00:08:00', '00:09:00',\n",
      "       ...\n",
      "       '23:50:00', '23:51:00', '23:52:00', '23:53:00', '23:54:00', '23:55:00',\n",
      "       '23:56:00', '23:57:00', '23:58:00', '23:59:00'],\n",
      "      dtype='object', name='snapshot', length=1440)\n"
     ]
    },
    {
     "name": "stdout",
     "output_type": "stream",
     "text": [
      "Running: HP=0.25, EV=0.0, PV=1.0, Insul=upgraded\n"
     ]
    },
    {
     "name": "stderr",
     "output_type": "stream",
     "text": [
      "INFO:pypsa.network.power_flow:Performing non-linear load-flow on AC sub-network <pypsa.networks.SubNetwork object at 0x1662bc290> for snapshots Index(['00:00:00', '00:01:00', '00:02:00', '00:03:00', '00:04:00', '00:05:00',\n",
      "       '00:06:00', '00:07:00', '00:08:00', '00:09:00',\n",
      "       ...\n",
      "       '23:50:00', '23:51:00', '23:52:00', '23:53:00', '23:54:00', '23:55:00',\n",
      "       '23:56:00', '23:57:00', '23:58:00', '23:59:00'],\n",
      "      dtype='object', name='snapshot', length=1440)\n"
     ]
    },
    {
     "name": "stdout",
     "output_type": "stream",
     "text": [
      "Running: HP=0.25, EV=0.25, PV=0.0, Insul=upgraded\n"
     ]
    },
    {
     "name": "stderr",
     "output_type": "stream",
     "text": [
      "INFO:pypsa.network.power_flow:Performing non-linear load-flow on AC sub-network <pypsa.networks.SubNetwork object at 0x301ee65d0> for snapshots Index(['00:00:00', '00:01:00', '00:02:00', '00:03:00', '00:04:00', '00:05:00',\n",
      "       '00:06:00', '00:07:00', '00:08:00', '00:09:00',\n",
      "       ...\n",
      "       '23:50:00', '23:51:00', '23:52:00', '23:53:00', '23:54:00', '23:55:00',\n",
      "       '23:56:00', '23:57:00', '23:58:00', '23:59:00'],\n",
      "      dtype='object', name='snapshot', length=1440)\n"
     ]
    },
    {
     "name": "stdout",
     "output_type": "stream",
     "text": [
      "Running: HP=0.25, EV=0.25, PV=0.25, Insul=upgraded\n"
     ]
    },
    {
     "name": "stderr",
     "output_type": "stream",
     "text": [
      "INFO:pypsa.network.power_flow:Performing non-linear load-flow on AC sub-network <pypsa.networks.SubNetwork object at 0x301069a00> for snapshots Index(['00:00:00', '00:01:00', '00:02:00', '00:03:00', '00:04:00', '00:05:00',\n",
      "       '00:06:00', '00:07:00', '00:08:00', '00:09:00',\n",
      "       ...\n",
      "       '23:50:00', '23:51:00', '23:52:00', '23:53:00', '23:54:00', '23:55:00',\n",
      "       '23:56:00', '23:57:00', '23:58:00', '23:59:00'],\n",
      "      dtype='object', name='snapshot', length=1440)\n"
     ]
    },
    {
     "name": "stdout",
     "output_type": "stream",
     "text": [
      "Running: HP=0.25, EV=0.25, PV=0.5, Insul=upgraded\n"
     ]
    },
    {
     "name": "stderr",
     "output_type": "stream",
     "text": [
      "INFO:pypsa.network.power_flow:Performing non-linear load-flow on AC sub-network <pypsa.networks.SubNetwork object at 0x3043d8f80> for snapshots Index(['00:00:00', '00:01:00', '00:02:00', '00:03:00', '00:04:00', '00:05:00',\n",
      "       '00:06:00', '00:07:00', '00:08:00', '00:09:00',\n",
      "       ...\n",
      "       '23:50:00', '23:51:00', '23:52:00', '23:53:00', '23:54:00', '23:55:00',\n",
      "       '23:56:00', '23:57:00', '23:58:00', '23:59:00'],\n",
      "      dtype='object', name='snapshot', length=1440)\n"
     ]
    },
    {
     "name": "stdout",
     "output_type": "stream",
     "text": [
      "Running: HP=0.25, EV=0.25, PV=0.75, Insul=upgraded\n"
     ]
    },
    {
     "name": "stderr",
     "output_type": "stream",
     "text": [
      "INFO:pypsa.network.power_flow:Performing non-linear load-flow on AC sub-network <pypsa.networks.SubNetwork object at 0x166677dd0> for snapshots Index(['00:00:00', '00:01:00', '00:02:00', '00:03:00', '00:04:00', '00:05:00',\n",
      "       '00:06:00', '00:07:00', '00:08:00', '00:09:00',\n",
      "       ...\n",
      "       '23:50:00', '23:51:00', '23:52:00', '23:53:00', '23:54:00', '23:55:00',\n",
      "       '23:56:00', '23:57:00', '23:58:00', '23:59:00'],\n",
      "      dtype='object', name='snapshot', length=1440)\n"
     ]
    },
    {
     "name": "stdout",
     "output_type": "stream",
     "text": [
      "Running: HP=0.25, EV=0.25, PV=1.0, Insul=upgraded\n"
     ]
    },
    {
     "name": "stderr",
     "output_type": "stream",
     "text": [
      "INFO:pypsa.network.power_flow:Performing non-linear load-flow on AC sub-network <pypsa.networks.SubNetwork object at 0x30124ad20> for snapshots Index(['00:00:00', '00:01:00', '00:02:00', '00:03:00', '00:04:00', '00:05:00',\n",
      "       '00:06:00', '00:07:00', '00:08:00', '00:09:00',\n",
      "       ...\n",
      "       '23:50:00', '23:51:00', '23:52:00', '23:53:00', '23:54:00', '23:55:00',\n",
      "       '23:56:00', '23:57:00', '23:58:00', '23:59:00'],\n",
      "      dtype='object', name='snapshot', length=1440)\n"
     ]
    },
    {
     "name": "stdout",
     "output_type": "stream",
     "text": [
      "Running: HP=0.25, EV=0.5, PV=0.0, Insul=upgraded\n"
     ]
    },
    {
     "name": "stderr",
     "output_type": "stream",
     "text": [
      "INFO:pypsa.network.power_flow:Performing non-linear load-flow on AC sub-network <pypsa.networks.SubNetwork object at 0x16590c800> for snapshots Index(['00:00:00', '00:01:00', '00:02:00', '00:03:00', '00:04:00', '00:05:00',\n",
      "       '00:06:00', '00:07:00', '00:08:00', '00:09:00',\n",
      "       ...\n",
      "       '23:50:00', '23:51:00', '23:52:00', '23:53:00', '23:54:00', '23:55:00',\n",
      "       '23:56:00', '23:57:00', '23:58:00', '23:59:00'],\n",
      "      dtype='object', name='snapshot', length=1440)\n"
     ]
    },
    {
     "name": "stdout",
     "output_type": "stream",
     "text": [
      "Running: HP=0.25, EV=0.5, PV=0.25, Insul=upgraded\n"
     ]
    },
    {
     "name": "stderr",
     "output_type": "stream",
     "text": [
      "INFO:pypsa.network.power_flow:Performing non-linear load-flow on AC sub-network <pypsa.networks.SubNetwork object at 0x16590c800> for snapshots Index(['00:00:00', '00:01:00', '00:02:00', '00:03:00', '00:04:00', '00:05:00',\n",
      "       '00:06:00', '00:07:00', '00:08:00', '00:09:00',\n",
      "       ...\n",
      "       '23:50:00', '23:51:00', '23:52:00', '23:53:00', '23:54:00', '23:55:00',\n",
      "       '23:56:00', '23:57:00', '23:58:00', '23:59:00'],\n",
      "      dtype='object', name='snapshot', length=1440)\n"
     ]
    },
    {
     "name": "stdout",
     "output_type": "stream",
     "text": [
      "Running: HP=0.25, EV=0.5, PV=0.5, Insul=upgraded\n"
     ]
    },
    {
     "name": "stderr",
     "output_type": "stream",
     "text": [
      "INFO:pypsa.network.power_flow:Performing non-linear load-flow on AC sub-network <pypsa.networks.SubNetwork object at 0x1660cf680> for snapshots Index(['00:00:00', '00:01:00', '00:02:00', '00:03:00', '00:04:00', '00:05:00',\n",
      "       '00:06:00', '00:07:00', '00:08:00', '00:09:00',\n",
      "       ...\n",
      "       '23:50:00', '23:51:00', '23:52:00', '23:53:00', '23:54:00', '23:55:00',\n",
      "       '23:56:00', '23:57:00', '23:58:00', '23:59:00'],\n",
      "      dtype='object', name='snapshot', length=1440)\n"
     ]
    },
    {
     "name": "stdout",
     "output_type": "stream",
     "text": [
      "Running: HP=0.25, EV=0.5, PV=0.75, Insul=upgraded\n"
     ]
    },
    {
     "name": "stderr",
     "output_type": "stream",
     "text": [
      "INFO:pypsa.network.power_flow:Performing non-linear load-flow on AC sub-network <pypsa.networks.SubNetwork object at 0x3032a2a80> for snapshots Index(['00:00:00', '00:01:00', '00:02:00', '00:03:00', '00:04:00', '00:05:00',\n",
      "       '00:06:00', '00:07:00', '00:08:00', '00:09:00',\n",
      "       ...\n",
      "       '23:50:00', '23:51:00', '23:52:00', '23:53:00', '23:54:00', '23:55:00',\n",
      "       '23:56:00', '23:57:00', '23:58:00', '23:59:00'],\n",
      "      dtype='object', name='snapshot', length=1440)\n"
     ]
    },
    {
     "name": "stdout",
     "output_type": "stream",
     "text": [
      "Running: HP=0.25, EV=0.5, PV=1.0, Insul=upgraded\n"
     ]
    },
    {
     "name": "stderr",
     "output_type": "stream",
     "text": [
      "INFO:pypsa.network.power_flow:Performing non-linear load-flow on AC sub-network <pypsa.networks.SubNetwork object at 0x301e366f0> for snapshots Index(['00:00:00', '00:01:00', '00:02:00', '00:03:00', '00:04:00', '00:05:00',\n",
      "       '00:06:00', '00:07:00', '00:08:00', '00:09:00',\n",
      "       ...\n",
      "       '23:50:00', '23:51:00', '23:52:00', '23:53:00', '23:54:00', '23:55:00',\n",
      "       '23:56:00', '23:57:00', '23:58:00', '23:59:00'],\n",
      "      dtype='object', name='snapshot', length=1440)\n"
     ]
    },
    {
     "name": "stdout",
     "output_type": "stream",
     "text": [
      "Running: HP=0.5, EV=0.0, PV=0.0, Insul=upgraded\n"
     ]
    },
    {
     "name": "stderr",
     "output_type": "stream",
     "text": [
      "INFO:pypsa.network.power_flow:Performing non-linear load-flow on AC sub-network <pypsa.networks.SubNetwork object at 0x301f1c6e0> for snapshots Index(['00:00:00', '00:01:00', '00:02:00', '00:03:00', '00:04:00', '00:05:00',\n",
      "       '00:06:00', '00:07:00', '00:08:00', '00:09:00',\n",
      "       ...\n",
      "       '23:50:00', '23:51:00', '23:52:00', '23:53:00', '23:54:00', '23:55:00',\n",
      "       '23:56:00', '23:57:00', '23:58:00', '23:59:00'],\n",
      "      dtype='object', name='snapshot', length=1440)\n"
     ]
    },
    {
     "name": "stdout",
     "output_type": "stream",
     "text": [
      "Running: HP=0.5, EV=0.0, PV=0.25, Insul=upgraded\n"
     ]
    },
    {
     "name": "stderr",
     "output_type": "stream",
     "text": [
      "INFO:pypsa.network.power_flow:Performing non-linear load-flow on AC sub-network <pypsa.networks.SubNetwork object at 0x16b0fbaa0> for snapshots Index(['00:00:00', '00:01:00', '00:02:00', '00:03:00', '00:04:00', '00:05:00',\n",
      "       '00:06:00', '00:07:00', '00:08:00', '00:09:00',\n",
      "       ...\n",
      "       '23:50:00', '23:51:00', '23:52:00', '23:53:00', '23:54:00', '23:55:00',\n",
      "       '23:56:00', '23:57:00', '23:58:00', '23:59:00'],\n",
      "      dtype='object', name='snapshot', length=1440)\n"
     ]
    },
    {
     "name": "stdout",
     "output_type": "stream",
     "text": [
      "Running: HP=0.5, EV=0.0, PV=0.5, Insul=upgraded\n"
     ]
    },
    {
     "name": "stderr",
     "output_type": "stream",
     "text": [
      "INFO:pypsa.network.power_flow:Performing non-linear load-flow on AC sub-network <pypsa.networks.SubNetwork object at 0x3022fa660> for snapshots Index(['00:00:00', '00:01:00', '00:02:00', '00:03:00', '00:04:00', '00:05:00',\n",
      "       '00:06:00', '00:07:00', '00:08:00', '00:09:00',\n",
      "       ...\n",
      "       '23:50:00', '23:51:00', '23:52:00', '23:53:00', '23:54:00', '23:55:00',\n",
      "       '23:56:00', '23:57:00', '23:58:00', '23:59:00'],\n",
      "      dtype='object', name='snapshot', length=1440)\n"
     ]
    },
    {
     "name": "stdout",
     "output_type": "stream",
     "text": [
      "Running: HP=0.5, EV=0.0, PV=0.75, Insul=upgraded\n"
     ]
    },
    {
     "name": "stderr",
     "output_type": "stream",
     "text": [
      "INFO:pypsa.network.power_flow:Performing non-linear load-flow on AC sub-network <pypsa.networks.SubNetwork object at 0x301faa060> for snapshots Index(['00:00:00', '00:01:00', '00:02:00', '00:03:00', '00:04:00', '00:05:00',\n",
      "       '00:06:00', '00:07:00', '00:08:00', '00:09:00',\n",
      "       ...\n",
      "       '23:50:00', '23:51:00', '23:52:00', '23:53:00', '23:54:00', '23:55:00',\n",
      "       '23:56:00', '23:57:00', '23:58:00', '23:59:00'],\n",
      "      dtype='object', name='snapshot', length=1440)\n"
     ]
    },
    {
     "name": "stdout",
     "output_type": "stream",
     "text": [
      "Running: HP=0.5, EV=0.0, PV=1.0, Insul=upgraded\n"
     ]
    },
    {
     "name": "stderr",
     "output_type": "stream",
     "text": [
      "INFO:pypsa.network.power_flow:Performing non-linear load-flow on AC sub-network <pypsa.networks.SubNetwork object at 0x165b98da0> for snapshots Index(['00:00:00', '00:01:00', '00:02:00', '00:03:00', '00:04:00', '00:05:00',\n",
      "       '00:06:00', '00:07:00', '00:08:00', '00:09:00',\n",
      "       ...\n",
      "       '23:50:00', '23:51:00', '23:52:00', '23:53:00', '23:54:00', '23:55:00',\n",
      "       '23:56:00', '23:57:00', '23:58:00', '23:59:00'],\n",
      "      dtype='object', name='snapshot', length=1440)\n"
     ]
    },
    {
     "name": "stdout",
     "output_type": "stream",
     "text": [
      "Running: HP=0.5, EV=0.25, PV=0.0, Insul=upgraded\n"
     ]
    },
    {
     "name": "stderr",
     "output_type": "stream",
     "text": [
      "INFO:pypsa.network.power_flow:Performing non-linear load-flow on AC sub-network <pypsa.networks.SubNetwork object at 0x167370ec0> for snapshots Index(['00:00:00', '00:01:00', '00:02:00', '00:03:00', '00:04:00', '00:05:00',\n",
      "       '00:06:00', '00:07:00', '00:08:00', '00:09:00',\n",
      "       ...\n",
      "       '23:50:00', '23:51:00', '23:52:00', '23:53:00', '23:54:00', '23:55:00',\n",
      "       '23:56:00', '23:57:00', '23:58:00', '23:59:00'],\n",
      "      dtype='object', name='snapshot', length=1440)\n"
     ]
    },
    {
     "name": "stdout",
     "output_type": "stream",
     "text": [
      "Running: HP=0.5, EV=0.25, PV=0.25, Insul=upgraded\n"
     ]
    },
    {
     "name": "stderr",
     "output_type": "stream",
     "text": [
      "INFO:pypsa.network.power_flow:Performing non-linear load-flow on AC sub-network <pypsa.networks.SubNetwork object at 0x304146ea0> for snapshots Index(['00:00:00', '00:01:00', '00:02:00', '00:03:00', '00:04:00', '00:05:00',\n",
      "       '00:06:00', '00:07:00', '00:08:00', '00:09:00',\n",
      "       ...\n",
      "       '23:50:00', '23:51:00', '23:52:00', '23:53:00', '23:54:00', '23:55:00',\n",
      "       '23:56:00', '23:57:00', '23:58:00', '23:59:00'],\n",
      "      dtype='object', name='snapshot', length=1440)\n"
     ]
    },
    {
     "name": "stdout",
     "output_type": "stream",
     "text": [
      "Running: HP=0.5, EV=0.25, PV=0.5, Insul=upgraded\n"
     ]
    },
    {
     "name": "stderr",
     "output_type": "stream",
     "text": [
      "INFO:pypsa.network.power_flow:Performing non-linear load-flow on AC sub-network <pypsa.networks.SubNetwork object at 0x304069730> for snapshots Index(['00:00:00', '00:01:00', '00:02:00', '00:03:00', '00:04:00', '00:05:00',\n",
      "       '00:06:00', '00:07:00', '00:08:00', '00:09:00',\n",
      "       ...\n",
      "       '23:50:00', '23:51:00', '23:52:00', '23:53:00', '23:54:00', '23:55:00',\n",
      "       '23:56:00', '23:57:00', '23:58:00', '23:59:00'],\n",
      "      dtype='object', name='snapshot', length=1440)\n"
     ]
    },
    {
     "name": "stdout",
     "output_type": "stream",
     "text": [
      "Running: HP=0.5, EV=0.25, PV=0.75, Insul=upgraded\n"
     ]
    }
   ],
   "source": [
    "import os\n",
    "import pandas as pd\n",
    "from itertools import product\n",
    "import pypsa\n",
    "\n",
    "# -----------------------------\n",
    "# Parameters\n",
    "# -----------------------------\n",
    "hp_levels = [0.0, 0.25, 0.5, 0.75, 1.0]\n",
    "ev_levels = [0.0, 0.25, 0.5]\n",
    "pv_levels = [0.0, 0.25, 0.5, 0.75, 1.0]\n",
    "n_houses = 40\n",
    "n_feeders = 4\n",
    "houses_per_feeder = 40\n",
    "root_dir = \"Sources/new\"\n",
    "is_weekend = True\n",
    "\n",
    "# Cable parameters (95 mm² Al, ~230 A rating, XLPE)\n",
    "cable_r_per_m = 0.00032  # Ohm/m\n",
    "cable_x_per_m = 0.00008  # Ohm/m\n",
    "segment_length_m = 5\n",
    "line_r = cable_r_per_m * segment_length_m   # = 0.0016 Ohm\n",
    "line_x = cable_x_per_m * segment_length_m   # = 0.0004 Ohm\n",
    "line_s_nom = 0.16   # MVA, ~160 kVA line rating\n",
    "\n",
    "# -----------------------------\n",
    "# Generate profiles function\n",
    "# -----------------------------\n",
    "def get_filename(root_dir, combo, weekend=True):\n",
    "    daytype = \"WE\" if weekend else \"WD\"\n",
    "    if combo:\n",
    "        combo_str = \"_\".join(combo)\n",
    "        filename = f\"Base_load_{daytype}_{combo_str}_aggregated.csv\"\n",
    "    else:\n",
    "        filename = f\"Base_load_{daytype}_aggregated.csv\"\n",
    "    return os.path.join(root_dir, filename)\n",
    "\n",
    "def generate_scenario_profiles(hp_share, ev_share, pv_share, root_dir, weekend=True, insulation=\"current\"):\n",
    "    total_houses = 40\n",
    "    tech_targets = {\n",
    "        \"HP\": int(total_houses * hp_share),\n",
    "        \"EV\": int(total_houses * ev_share),\n",
    "        \"PV\": int(total_houses * pv_share)\n",
    "    }\n",
    "\n",
    "    house_assignments = []\n",
    "    remaining = tech_targets.copy()\n",
    "    remaining_houses = total_houses\n",
    "\n",
    "    tech_combinations = [\n",
    "        (), (\"HP\",), (\"EV\",), (\"PV\",),\n",
    "        (\"HP\", \"EV\"), (\"HP\", \"PV\"), (\"EV\", \"PV\"), (\"HP\", \"EV\", \"PV\")\n",
    "    ]\n",
    "\n",
    "    sorted_combos = sorted(tech_combinations, key=lambda x: -len(x))\n",
    "\n",
    "    for combo in sorted_combos:\n",
    "        if remaining_houses == 0:\n",
    "            break\n",
    "        if not combo:\n",
    "            count = remaining_houses\n",
    "        else:\n",
    "            max_possible = min(remaining[t] for t in combo)\n",
    "            count = min(max_possible, remaining_houses)\n",
    "\n",
    "        if count > 0:\n",
    "            house_assignments.append((combo, count))\n",
    "            for t in combo:\n",
    "                remaining[t] -= count\n",
    "            remaining_houses -= count\n",
    "\n",
    "    # Load HP master file once\n",
    "    daytype = \"WE\" if weekend else \"WD\"\n",
    "    hp_file_path = os.path.join(root_dir, f\"Base_load_{daytype}_HP_aggregated.csv\")\n",
    "    if not os.path.exists(hp_file_path):\n",
    "        raise FileNotFoundError(f\"HP profile file not found: {hp_file_path}\")\n",
    "    df_hp = pd.read_csv(hp_file_path, index_col=0)\n",
    "\n",
    "    # Prepare insulation filter map\n",
    "    insulation_shares = {\n",
    "        \"current\": {\"poor\": 0.0964, \"avg\": 0.8823, \"good\": 0.0213},\n",
    "        \"upgraded\": {\"good\": 1.0}\n",
    "    }[insulation]\n",
    "\n",
    "    # Sampling buffer\n",
    "    final_profiles = []\n",
    "    master_index = df_hp.index[:1440]\n",
    "\n",
    "    for combo, count in house_assignments:\n",
    "        if combo == (\"HP\",):\n",
    "            for ins_level, share in insulation_shares.items():\n",
    "                n = round(count * share)\n",
    "                if n == 0:\n",
    "                    continue\n",
    "                cols = [col for col in df_hp.columns if f\"+{ins_level}_\" in col]\n",
    "                if len(cols) < n:\n",
    "                    raise ValueError(f\"Not enough HP profiles for {ins_level}: need {n}, found {len(cols)}\")\n",
    "                selected = df_hp[cols].sample(n=n, axis=1, random_state=42)\n",
    "                selected = selected.reindex(index=master_index)\n",
    "                final_profiles.append(selected)\n",
    "        else:\n",
    "            path = get_filename(root_dir, combo, weekend)\n",
    "            if not os.path.exists(path):\n",
    "                raise FileNotFoundError(f\"Required file not found: {path}\")\n",
    "            df = pd.read_csv(path, index_col=0)\n",
    "            selected = df.sample(n=count, axis=1, replace=False, random_state=42)\n",
    "            selected = selected.reindex(index=master_index)\n",
    "            final_profiles.append(selected)\n",
    "\n",
    "    df_combined = pd.concat(final_profiles, axis=1)\n",
    "    df_combined.columns = [f\"House_{i+1}\" for i in range(df_combined.shape[1])]\n",
    "    return df_combined\n",
    "\n",
    "# -----------------------------\n",
    "# Simulation loop\n",
    "# -----------------------------\n",
    "for insulation_variant in [\"current\", \"upgraded\"]:\n",
    "    results_df = pd.DataFrame(columns=[\n",
    "        \"HP_share\", \"EV_share\", \"PV_share\", \"peak_load_kW\",\n",
    "        \"min_voltage_pu\", \"max_voltage_pu\",\n",
    "        \"n_transformer_overloads\", \"n_feeder_overloads\",\n",
    "        \"n_line_overloads_strict\", \"n_line_overloads_planning\",\n",
    "        \"max_loading_ratio\",\n",
    "        \"feeder_1_peak_kVA\", \"feeder_2_peak_kVA\",\n",
    "        \"feeder_3_peak_kVA\", \"feeder_4_peak_kVA\"\n",
    "    ])\n",
    "\n",
    "\n",
    "    for hp, ev, pv in product(hp_levels, ev_levels, pv_levels):\n",
    "        print(f\"Running: HP={hp}, EV={ev}, PV={pv}, Insul={insulation_variant}\")\n",
    "\n",
    "        try:\n",
    "            # 40-house profile\n",
    "            df_selected = generate_scenario_profiles(\n",
    "                hp_share=hp, ev_share=ev, pv_share=pv,\n",
    "                root_dir=root_dir, weekend=is_weekend,\n",
    "                insulation=insulation_variant\n",
    "            )\n",
    "\n",
    "            # Expand to 160 houses (4 feeders)\n",
    "            df_selected = pd.concat([df_selected.copy() for _ in range(4)], axis=1)\n",
    "            df_selected.columns = [f\"House_{i+1}\" for i in range(df_selected.shape[1])]\n",
    "\n",
    "            # Build network\n",
    "            network = pypsa.Network()\n",
    "            network.set_snapshots(df_selected.index)\n",
    "\n",
    "            # MV bus + single LV bus (one transformer)\n",
    "            network.add(\"Bus\", \"mv_bus\", v_nom=11000, overwrite=True)\n",
    "            network.add(\"Bus\", \"lv_bus\", v_nom=400, overwrite=True)\n",
    "            network.add(\"Line\", \"mv_to_lv\",\n",
    "                        bus0=\"mv_bus\", bus1=\"lv_bus\",\n",
    "                        r=0.01, x=0.05,\n",
    "                        s_nom=0.45, overwrite=True)\n",
    "\n",
    "            # 4 feeders\n",
    "            for f in range(1, n_feeders + 1):\n",
    "                feeder_name = f\"feeder_{f}\"\n",
    "\n",
    "                # first house\n",
    "                first_bus = f\"{feeder_name}_house_1_bus\"\n",
    "                network.add(\"Bus\", first_bus, v_nom=230, overwrite=True)\n",
    "                network.add(\"Line\", f\"lv_to_{feeder_name}_house_1\",\n",
    "                            bus0=\"lv_bus\", bus1=first_bus,\n",
    "                            r=line_r, x=line_x,\n",
    "                            s_nom=line_s_nom, overwrite=True)\n",
    "\n",
    "                # remaining houses\n",
    "                for i in range(2, houses_per_feeder + 1):\n",
    "                    bus_i = f\"{feeder_name}_house_{i}_bus\"\n",
    "                    network.add(\"Bus\", bus_i, v_nom=230, overwrite=True)\n",
    "                    network.add(\"Line\", f\"{feeder_name}_house_{i-1}_to_{i}\",\n",
    "                                bus0=f\"{feeder_name}_house_{i-1}_bus\", bus1=bus_i,\n",
    "                                r=line_r, x=line_x,\n",
    "                                s_nom=line_s_nom, overwrite=True)\n",
    "\n",
    "                # attach loads\n",
    "                for i in range(1, houses_per_feeder + 1):\n",
    "                    col = f\"House_{(f-1)*houses_per_feeder + i}\"\n",
    "                    p_kw = df_selected[col]\n",
    "                    p_mw = p_kw / 1000\n",
    "                    q_mvar = (p_kw * 0.33) / 1000\n",
    "                    network.add(\"Load\", f\"{feeder_name}_load_{i}\",\n",
    "                                bus=f\"{feeder_name}_house_{i}_bus\",\n",
    "                                p_set=p_mw, q_set=q_mvar,\n",
    "                                overwrite=True)\n",
    "\n",
    "            # Slack gen\n",
    "            network.add(\"Generator\", \"slack_gen\", bus=\"mv_bus\",\n",
    "                        control=\"Slack\", p_nom_extendable=True, p_nom=1e3)\n",
    "\n",
    "            # Run PF\n",
    "            network.pf()\n",
    "\n",
    "            # --- Feeder peaks (apparent power) ---\n",
    "            feeder_peaks = {}\n",
    "            for f in range(1, n_feeders + 1):\n",
    "                feeder_loads = [f\"feeder_{f}_load_{i}\" for i in range(1, houses_per_feeder+1)]\n",
    "                feeder_P = network.loads_t.p_set[feeder_loads].sum(axis=1)   # MW\n",
    "                feeder_Q = network.loads_t.q_set[feeder_loads].sum(axis=1)   # MVAr\n",
    "                feeder_S = (feeder_P**2 + feeder_Q**2)**0.5                  # MVA\n",
    "                feeder_peaks[f\"feeder_{f}_peak_kVA\"] = feeder_S.max() * 1000 # → kVA\n",
    "\n",
    "            # -------------------\n",
    "            # Collect results\n",
    "            # -------------------\n",
    "            v = network.buses_t.v_mag_pu\n",
    "            v_min = v.min().min()\n",
    "            v_max = v.max().max()\n",
    "\n",
    "            # Apparent power flows\n",
    "            S = (network.lines_t.p0**2 + network.lines_t.q0**2)**0.5\n",
    "            line_loading = S.div(network.lines.s_nom, axis=1)\n",
    "\n",
    "            max_loading_ratio = line_loading.max().max()\n",
    "\n",
    "            # Overload counts\n",
    "            transformer_overloads = line_loading.loc[:, network.lines.index.str.contains(\"mv_to_lv\")].max() > 1.0\n",
    "            feeder_overloads = line_loading.loc[:, ~network.lines.index.str.contains(\"mv_to_lv\")].max() > 1.0\n",
    "\n",
    "            n_transformer_overloads = transformer_overloads.sum()\n",
    "            n_feeder_overloads = feeder_overloads.sum()\n",
    "\n",
    "            # Strict overloads (>100%) vs Planning overloads (>90%)\n",
    "            n_line_overloads_strict = (line_loading.max() > 1.0).sum()\n",
    "            n_line_overloads_planning = (line_loading.max() > 0.9).sum()\n",
    "\n",
    "            peak_load_kw = network.loads_t.p_set.sum(axis=1).max() * 1000\n",
    "\n",
    "            results_df.loc[len(results_df)] = [\n",
    "                hp, ev, pv, peak_load_kw,\n",
    "                v_min, v_max,\n",
    "                n_transformer_overloads, n_feeder_overloads,\n",
    "                n_line_overloads_strict, n_line_overloads_planning,\n",
    "                max_loading_ratio,\n",
    "                feeder_peaks[\"feeder_1_peak_kVA\"],\n",
    "                feeder_peaks[\"feeder_2_peak_kVA\"],\n",
    "                feeder_peaks[\"feeder_3_peak_kVA\"],\n",
    "                feeder_peaks[\"feeder_4_peak_kVA\"]\n",
    "            ]\n",
    "\n",
    "        except Exception as e:\n",
    "            print(f\"❌ Failed HP={hp}, EV={ev}, PV={pv}: {e}\")\n",
    "            results_df.loc[len(results_df)] = [\n",
    "                hp, ev, pv, None, None, None, None, None, None, None, None\n",
    "            ]\n",
    "\n",
    "    # Save\n",
    "    output_file = f\"Results/lv_grid_results_{insulation_variant}.csv\"\n",
    "    os.makedirs(\"Results\", exist_ok=True)\n",
    "    results_df.to_csv(output_file, index=False)\n",
    "    print(f\"✅ Saved: {output_file}\")\n",
    "\n"
   ]
  },
  {
   "cell_type": "code",
   "execution_count": 114,
   "id": "a77e6d78-fcca-431b-b885-a4b0df00a49d",
   "metadata": {},
   "outputs": [
    {
     "name": "stderr",
     "output_type": "stream",
     "text": [
      "INFO:matplotlib.category:Using categorical units to plot a list of strings that are all parsable as floats or dates. If these strings should be plotted as numbers, cast to the appropriate data type before plotting.\n",
      "INFO:matplotlib.category:Using categorical units to plot a list of strings that are all parsable as floats or dates. If these strings should be plotted as numbers, cast to the appropriate data type before plotting.\n",
      "INFO:matplotlib.category:Using categorical units to plot a list of strings that are all parsable as floats or dates. If these strings should be plotted as numbers, cast to the appropriate data type before plotting.\n",
      "INFO:matplotlib.category:Using categorical units to plot a list of strings that are all parsable as floats or dates. If these strings should be plotted as numbers, cast to the appropriate data type before plotting.\n",
      "INFO:matplotlib.category:Using categorical units to plot a list of strings that are all parsable as floats or dates. If these strings should be plotted as numbers, cast to the appropriate data type before plotting.\n",
      "INFO:matplotlib.category:Using categorical units to plot a list of strings that are all parsable as floats or dates. If these strings should be plotted as numbers, cast to the appropriate data type before plotting.\n"
     ]
    },
    {
     "data": {
      "image/png": "[encoded data removed]",
      "text/plain": [
       "<Figure size 1200x1600 with 3 Axes>"
      ]
     },
     "metadata": {},
     "output_type": "display_data"
    }
   ],
   "source": [
    "import pandas as pd\n",
    "import matplotlib.pyplot as plt\n",
    "import seaborn as sns\n",
    "import os\n",
    "\n",
    "# Load results\n",
    "df_current = pd.read_csv(\"Results/lv_grid_results_current.csv\")\n",
    "df_upgraded = pd.read_csv(\"Results/lv_grid_results_upgraded.csv\")\n",
    "\n",
    "# Label insulation types\n",
    "df_current[\"Insulation\"] = \"Current\"\n",
    "df_upgraded[\"Insulation\"] = \"Upgraded\"\n",
    "\n",
    "# Combine both datasets\n",
    "df_all = pd.concat([df_current, df_upgraded], ignore_index=True)\n",
    "df_all[\"HP_share\"] = pd.to_numeric(df_all[\"HP_share\"], errors=\"coerce\")\n",
    "\n",
    "\n",
    "# Convert adoption shares to percentage for clearer axis labels\n",
    "for col in [\"HP_share\", \"EV_share\", \"PV_share\"]:\n",
    "    if col in df_all.columns:\n",
    "        df_all[col] = df_all[col] * 100\n",
    "\n",
    "# Setup seaborn aesthetics\n",
    "sns.set(style=\"whitegrid\")\n",
    "\n",
    "fig, axes = plt.subplots(3, 1, figsize=(12, 16), sharex=True)\n",
    "\n",
    "# Plot 1: Peak Load vs HP share\n",
    "sns.boxplot(\n",
    "    data=df_all,\n",
    "    x=\"HP_share\",\n",
    "    y=\"peak_load_kW\",\n",
    "    hue=\"Insulation\",\n",
    "    ax=axes[0],\n",
    "    palette=[\"steelblue\", \"darkorange\"]\n",
    ")\n",
    "axes[0].set_title(\"Peak Load by Heat Pump Adoption Share\")\n",
    "axes[0].set_ylabel(\"Peak Load (kW)\")\n",
    "axes[0].legend(title=\"Insulation Scenario\")\n",
    "\n",
    "# Plot 2: Minimum Voltage (p.u.)\n",
    "sns.boxplot(\n",
    "    data=df_all,\n",
    "    x=\"HP_share\",\n",
    "    y=\"min_voltage_pu\",\n",
    "    hue=\"Insulation\",\n",
    "    ax=axes[1],\n",
    "    palette=[\"steelblue\", \"darkorange\"]\n",
    ")\n",
    "axes[1].set_title(\"Minimum Bus Voltage by Heat Pump Share\")\n",
    "axes[1].set_ylabel(\"Voltage (p.u.)\")\n",
    "axes[1].legend_.remove()\n",
    "\n",
    "# Plot 3: Max Line Loading Ratio\n",
    "sns.boxplot(\n",
    "    data=df_all,\n",
    "    x=\"HP_share\",\n",
    "    y=\"max_loading_ratio\",\n",
    "    hue=\"Insulation\",\n",
    "    ax=axes[2],\n",
    "    palette=[\"steelblue\", \"darkorange\"]\n",
    ")\n",
    "axes[2].set_title(\"Maximum Line Loading Ratio by HP Share\")\n",
    "axes[2].set_ylabel(\"Max Loading Ratio\")\n",
    "axes[2].legend_.remove()\n",
    "\n",
    "axes[2].set_xlabel(\"Heat Pump Share (%)\")\n",
    "\n",
    "plt.tight_layout()\n",
    "\n",
    "# Save figure\n",
    "os.makedirs(\"Results/Plots\", exist_ok=True)\n",
    "plt.savefig(\"Results/Plots/insulation_comparison_boxplots.png\", dpi=300)\n",
    "plt.show()\n"
   ]
  },
  {
   "cell_type": "code",
   "execution_count": 115,
   "id": "92e422fd-f927-413c-be7c-3739e44962c9",
   "metadata": {},
   "outputs": [],
   "source": [
    "import matplotlib.pyplot as plt\n",
    "import networkx as nx\n",
    "from matplotlib.patches import Patch\n",
    "\n",
    "def plot_lv_network_4feeders(network, n_feeders=4, houses_per_feeder=40, y_spacing=1.0, title=\"LV Network with 4 Feeders (40 Houses Each)\"):\n",
    "    G = network.graph()\n",
    "\n",
    "    # Layout dictionary\n",
    "    layout = {}\n",
    "\n",
    "    # Center MV bus above all LV buses\n",
    "    x_center = (n_feeders + 1) * 2  # adjust horizontal position\n",
    "    layout[\"mv_bus\"] = (x_center, n_feeders + 3)\n",
    "\n",
    "    # Place LV buses evenly spaced\n",
    "    for f in range(1, n_feeders + 1):\n",
    "        x_pos = f * 4\n",
    "        lv_bus = f\"lv_bus_{f}\"\n",
    "        layout[lv_bus] = (x_pos, n_feeders + 2)\n",
    "\n",
    "        # Place houses vertically under each LV bus\n",
    "        for i in range(1, houses_per_feeder + 1):\n",
    "            house_bus = f\"feeder_{f}_house_{i}_bus\"\n",
    "            layout[house_bus] = (x_pos, n_feeders + 1 - i * y_spacing)\n",
    "\n",
    "    # Assign colors\n",
    "    node_colors = []\n",
    "    for node in G.nodes:\n",
    "        if node == \"mv_bus\":\n",
    "            node_colors.append(\"orange\")\n",
    "        elif node.startswith(\"lv_bus\"):\n",
    "            node_colors.append(\"skyblue\")\n",
    "        elif \"house\" in node:\n",
    "            node_colors.append(\"lightgreen\")\n",
    "        else:\n",
    "            node_colors.append(\"grey\")\n",
    "\n",
    "    # Legend\n",
    "    legend_elements = [\n",
    "        Patch(facecolor='orange', edgecolor='black', label='MV Bus'),\n",
    "        Patch(facecolor='skyblue', edgecolor='black', label='LV Buses'),\n",
    "        Patch(facecolor='lightgreen', edgecolor='black', label='Household Buses'),\n",
    "    ]\n",
    "\n",
    "    # Draw\n",
    "    fig, ax = plt.subplots(figsize=(20, 10))\n",
    "    nx.draw(G, pos=layout, with_labels=False,\n",
    "            node_color=node_colors, node_size=200,\n",
    "            edge_color=\"gray\", width=0.6, ax=ax)\n",
    "\n",
    "    ax.set_title(title, fontsize=14)\n",
    "    ax.legend(handles=legend_elements, loc=\"upper right\", fontsize=10, frameon=True)\n",
    "    plt.axis(\"off\")\n",
    "    plt.show()\n"
   ]
  },
  {
   "cell_type": "code",
   "execution_count": 116,
   "id": "8aa6cd90-daa8-4119-8799-8024be41e5db",
   "metadata": {},
   "outputs": [
    {
     "ename": "NetworkXError",
     "evalue": "Node 'lv_bus' has no position.",
     "output_type": "error",
     "traceback": [
      "\u001b[0;31m---------------------------------------------------------------------------\u001b[0m",
      "\u001b[0;31mKeyError\u001b[0m                                  Traceback (most recent call last)",
      "File \u001b[0;32m/opt/anaconda3/lib/python3.12/site-packages/networkx/drawing/nx_pylab.py:1426\u001b[0m, in \u001b[0;36mdraw_networkx_nodes\u001b[0;34m(G, pos, nodelist, node_size, node_color, node_shape, alpha, cmap, vmin, vmax, ax, linewidths, edgecolors, label, margins, hide_ticks)\u001b[0m\n\u001b[1;32m   1425\u001b[0m \u001b[38;5;28;01mtry\u001b[39;00m:\n\u001b[0;32m-> 1426\u001b[0m     xy \u001b[38;5;241m=\u001b[39m np\u001b[38;5;241m.\u001b[39masarray([pos[v] \u001b[38;5;28;01mfor\u001b[39;00m v \u001b[38;5;129;01min\u001b[39;00m nodelist])\n\u001b[1;32m   1427\u001b[0m \u001b[38;5;28;01mexcept\u001b[39;00m \u001b[38;5;167;01mKeyError\u001b[39;00m \u001b[38;5;28;01mas\u001b[39;00m err:\n",
      "\u001b[0;31mKeyError\u001b[0m: 'lv_bus'",
      "\nThe above exception was the direct cause of the following exception:\n",
      "\u001b[0;31mNetworkXError\u001b[0m                             Traceback (most recent call last)",
      "Cell \u001b[0;32mIn[116], line 1\u001b[0m\n\u001b[0;32m----> 1\u001b[0m plot_lv_network_4feeders(network, y_spacing\u001b[38;5;241m=\u001b[39m\u001b[38;5;241m0.3\u001b[39m)\n",
      "Cell \u001b[0;32mIn[115], line 47\u001b[0m, in \u001b[0;36mplot_lv_network_4feeders\u001b[0;34m(network, n_feeders, houses_per_feeder, y_spacing, title)\u001b[0m\n\u001b[1;32m     45\u001b[0m \u001b[38;5;66;03m# Draw\u001b[39;00m\n\u001b[1;32m     46\u001b[0m fig, ax \u001b[38;5;241m=\u001b[39m plt\u001b[38;5;241m.\u001b[39msubplots(figsize\u001b[38;5;241m=\u001b[39m(\u001b[38;5;241m20\u001b[39m, \u001b[38;5;241m10\u001b[39m))\n\u001b[0;32m---> 47\u001b[0m nx\u001b[38;5;241m.\u001b[39mdraw(G, pos\u001b[38;5;241m=\u001b[39mlayout, with_labels\u001b[38;5;241m=\u001b[39m\u001b[38;5;28;01mFalse\u001b[39;00m,\n\u001b[1;32m     48\u001b[0m         node_color\u001b[38;5;241m=\u001b[39mnode_colors, node_size\u001b[38;5;241m=\u001b[39m\u001b[38;5;241m200\u001b[39m,\n\u001b[1;32m     49\u001b[0m         edge_color\u001b[38;5;241m=\u001b[39m\u001b[38;5;124m\"\u001b[39m\u001b[38;5;124mgray\u001b[39m\u001b[38;5;124m\"\u001b[39m, width\u001b[38;5;241m=\u001b[39m\u001b[38;5;241m0.6\u001b[39m, ax\u001b[38;5;241m=\u001b[39max)\n\u001b[1;32m     51\u001b[0m ax\u001b[38;5;241m.\u001b[39mset_title(title, fontsize\u001b[38;5;241m=\u001b[39m\u001b[38;5;241m14\u001b[39m)\n\u001b[1;32m     52\u001b[0m ax\u001b[38;5;241m.\u001b[39mlegend(handles\u001b[38;5;241m=\u001b[39mlegend_elements, loc\u001b[38;5;241m=\u001b[39m\u001b[38;5;124m\"\u001b[39m\u001b[38;5;124mupper right\u001b[39m\u001b[38;5;124m\"\u001b[39m, fontsize\u001b[38;5;241m=\u001b[39m\u001b[38;5;241m10\u001b[39m, frameon\u001b[38;5;241m=\u001b[39m\u001b[38;5;28;01mTrue\u001b[39;00m)\n",
      "File \u001b[0;32m/opt/anaconda3/lib/python3.12/site-packages/networkx/drawing/nx_pylab.py:1107\u001b[0m, in \u001b[0;36mdraw\u001b[0;34m(G, pos, ax, **kwds)\u001b[0m\n\u001b[1;32m   1104\u001b[0m \u001b[38;5;28;01mif\u001b[39;00m \u001b[38;5;124m\"\u001b[39m\u001b[38;5;124mwith_labels\u001b[39m\u001b[38;5;124m\"\u001b[39m \u001b[38;5;129;01mnot\u001b[39;00m \u001b[38;5;129;01min\u001b[39;00m kwds:\n\u001b[1;32m   1105\u001b[0m     kwds[\u001b[38;5;124m\"\u001b[39m\u001b[38;5;124mwith_labels\u001b[39m\u001b[38;5;124m\"\u001b[39m] \u001b[38;5;241m=\u001b[39m \u001b[38;5;124m\"\u001b[39m\u001b[38;5;124mlabels\u001b[39m\u001b[38;5;124m\"\u001b[39m \u001b[38;5;129;01min\u001b[39;00m kwds\n\u001b[0;32m-> 1107\u001b[0m draw_networkx(G, pos\u001b[38;5;241m=\u001b[39mpos, ax\u001b[38;5;241m=\u001b[39max, \u001b[38;5;241m*\u001b[39m\u001b[38;5;241m*\u001b[39mkwds)\n\u001b[1;32m   1108\u001b[0m ax\u001b[38;5;241m.\u001b[39mset_axis_off()\n\u001b[1;32m   1109\u001b[0m plt\u001b[38;5;241m.\u001b[39mdraw_if_interactive()\n",
      "File \u001b[0;32m/opt/anaconda3/lib/python3.12/site-packages/networkx/drawing/nx_pylab.py:1295\u001b[0m, in \u001b[0;36mdraw_networkx\u001b[0;34m(G, pos, arrows, with_labels, **kwds)\u001b[0m\n\u001b[1;32m   1292\u001b[0m \u001b[38;5;28;01mif\u001b[39;00m pos \u001b[38;5;129;01mis\u001b[39;00m \u001b[38;5;28;01mNone\u001b[39;00m:\n\u001b[1;32m   1293\u001b[0m     pos \u001b[38;5;241m=\u001b[39m nx\u001b[38;5;241m.\u001b[39mdrawing\u001b[38;5;241m.\u001b[39mspring_layout(G)  \u001b[38;5;66;03m# default to spring layout\u001b[39;00m\n\u001b[0;32m-> 1295\u001b[0m draw_networkx_nodes(G, pos, \u001b[38;5;241m*\u001b[39m\u001b[38;5;241m*\u001b[39mnode_kwds)\n\u001b[1;32m   1296\u001b[0m draw_networkx_edges(G, pos, arrows\u001b[38;5;241m=\u001b[39marrows, \u001b[38;5;241m*\u001b[39m\u001b[38;5;241m*\u001b[39medge_kwds)\n\u001b[1;32m   1297\u001b[0m \u001b[38;5;28;01mif\u001b[39;00m with_labels:\n",
      "File \u001b[0;32m/opt/anaconda3/lib/python3.12/site-packages/networkx/drawing/nx_pylab.py:1428\u001b[0m, in \u001b[0;36mdraw_networkx_nodes\u001b[0;34m(G, pos, nodelist, node_size, node_color, node_shape, alpha, cmap, vmin, vmax, ax, linewidths, edgecolors, label, margins, hide_ticks)\u001b[0m\n\u001b[1;32m   1426\u001b[0m     xy \u001b[38;5;241m=\u001b[39m np\u001b[38;5;241m.\u001b[39masarray([pos[v] \u001b[38;5;28;01mfor\u001b[39;00m v \u001b[38;5;129;01min\u001b[39;00m nodelist])\n\u001b[1;32m   1427\u001b[0m \u001b[38;5;28;01mexcept\u001b[39;00m \u001b[38;5;167;01mKeyError\u001b[39;00m \u001b[38;5;28;01mas\u001b[39;00m err:\n\u001b[0;32m-> 1428\u001b[0m     \u001b[38;5;28;01mraise\u001b[39;00m nx\u001b[38;5;241m.\u001b[39mNetworkXError(\u001b[38;5;124mf\u001b[39m\u001b[38;5;124m\"\u001b[39m\u001b[38;5;124mNode \u001b[39m\u001b[38;5;132;01m{\u001b[39;00merr\u001b[38;5;132;01m}\u001b[39;00m\u001b[38;5;124m has no position.\u001b[39m\u001b[38;5;124m\"\u001b[39m) \u001b[38;5;28;01mfrom\u001b[39;00m \u001b[38;5;21;01merr\u001b[39;00m\n\u001b[1;32m   1430\u001b[0m \u001b[38;5;28;01mif\u001b[39;00m \u001b[38;5;28misinstance\u001b[39m(alpha, Iterable):\n\u001b[1;32m   1431\u001b[0m     node_color \u001b[38;5;241m=\u001b[39m apply_alpha(node_color, alpha, nodelist, cmap, vmin, vmax)\n",
      "\u001b[0;31mNetworkXError\u001b[0m: Node 'lv_bus' has no position."
     ]
    },
    {
     "data": {
      "image/png": "[encoded data removed]",
      "text/plain": [
       "<Figure size 2000x1000 with 1 Axes>"
      ]
     },
     "metadata": {},
     "output_type": "display_data"
    }
   ],
   "source": [
    "plot_lv_network_4feeders(network, y_spacing=0.3)\n"
   ]
  },
  {
   "cell_type": "code",
   "execution_count": null,
   "id": "589787f5-475b-4508-8658-79f9de492a11",
   "metadata": {},
   "outputs": [],
   "source": [
    "print(network.buses.index.tolist()[:50])  # first 50 bus names\n"
   ]
  },
  {
   "cell_type": "code",
   "execution_count": null,
   "id": "73b21037-048b-4ed0-bcb2-efafa66b1995",
   "metadata": {},
   "outputs": [],
   "source": [
    "# After network.pf()\n",
    "print(network.buses_t.v_mag_pu.head())\n",
    "print(network.buses_t.v_mag_pu.describe())\n"
   ]
  },
  {
   "cell_type": "code",
   "execution_count": null,
   "id": "2af4a658-acf0-4240-872e-31bafa6da39b",
   "metadata": {},
   "outputs": [],
   "source": [
    "min_v = network.buses_t.v_mag_pu.min().min()\n",
    "max_v = network.buses_t.v_mag_pu.max().max()\n",
    "print(f\"Voltage range across all buses: {min_v:.4f} – {max_v:.4f} p.u.\")\n"
   ]
  },
  {
   "cell_type": "code",
   "execution_count": null,
   "id": "c005224c-4ad1-4fbe-be0a-21312b5e61c0",
   "metadata": {},
   "outputs": [],
   "source": []
  }
 ],
 "metadata": {
  "kernelspec": {
   "display_name": "Python 3 (ipykernel)",
   "language": "python",
   "name": "python3"
  },
  "language_info": {
   "codemirror_mode": {
    "name": "ipython",
    "version": 3
   },
   "file_extension": ".py",
   "mimetype": "text/x-python",
   "name": "python",
   "nbconvert_exporter": "python",
   "pygments_lexer": "ipython3",
   "version": "3.12.7"
  }
 },
 "nbformat": 4,
 "nbformat_minor": 5
}
